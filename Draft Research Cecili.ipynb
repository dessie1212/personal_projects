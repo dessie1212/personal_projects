{
 "cells": [
  {
   "cell_type": "code",
   "execution_count": 4,
   "id": "a13cb12d-d92b-4c41-be3a-620bacfdaadc",
   "metadata": {},
   "outputs": [],
   "source": [
    "import pandas as pd \n",
    "import re\n",
    "import numpy as np"
   ]
  },
  {
   "cell_type": "code",
   "execution_count": 31,
   "id": "3fc52513-f642-4abf-9aa2-9d24aaa43745",
   "metadata": {},
   "outputs": [],
   "source": [
    "from sklearn.model_selection import train_test_split, GridSearchCV\n",
    "from sklearn.preprocessing import OneHotEncoder, StandardScaler, LabelEncoder\n",
    "from sklearn.metrics import accuracy_score, precision_score, classification_report\n",
    "from sklearn.ensemble import RandomForestClassifier\n",
    "from sklearn.svm import SVC\n",
    "import matplotlib.pyplot as plt\n",
    "from sklearn.linear_model import LogisticRegression\n",
    "from sklearn.metrics import confusion_matrix"
   ]
  },
  {
   "cell_type": "code",
   "execution_count": 5,
   "id": "ba43a81e-9cc9-43ce-a36d-2c449752b71e",
   "metadata": {},
   "outputs": [],
   "source": [
    "df = pd.read_csv('C:/Users/ERC/Desktop/Thesis/genomes-all_metadata_fish.csv')\n",
    "sampled_df = df.sample(n=500, random_state = 10, replace = True)"
   ]
  },
  {
   "cell_type": "code",
   "execution_count": 6,
   "id": "c3bcb036-7184-4983-b33f-fb71100bb46e",
   "metadata": {},
   "outputs": [
    {
     "name": "stdout",
     "output_type": "stream",
     "text": [
      "        GC_content                                            Lineage Species\n",
      "121958       57.39  d__Bacteria;p__Proteobacteria;c__Gammaproteoba...   Human\n",
      "146867       29.78  d__Bacteria;p__Firmicutes_A;c__Clostridia;o__C...   Human\n",
      "131932       49.10  d__Bacteria;p__Firmicutes_A;c__Clostridia;o__L...   Human\n",
      "259178       55.09  d__Bacteria;p__Proteobacteria;c__Gammaproteoba...   Human\n",
      "119879       48.28  d__Bacteria;p__Firmicutes_A;c__Clostridia;o__L...   Human\n",
      "...            ...                                                ...     ...\n",
      "21689        48.53  d__Bacteria;p__Firmicutes_A;c__Clostridia;o__L...   Human\n",
      "273318       44.12  d__Bacteria;p__Bacteroidota;c__Bacteroidia;o__...   Human\n",
      "9348         60.02  d__Bacteria;p__Firmicutes_A;c__Clostridia;o__O...   Human\n",
      "38102        57.60  d__Bacteria;p__Actinobacteriota;c__Coriobacter...   Human\n",
      "74460        61.38  d__Bacteria;p__Firmicutes_A;c__Clostridia_A;o_...   Human\n",
      "\n",
      "[500 rows x 3 columns]\n",
      "GC_content    0\n",
      "Lineage       0\n",
      "Species       0\n",
      "dtype: int64\n"
     ]
    }
   ],
   "source": [
    "df_human = pd.read_csv('C:/Users/ERC/Desktop/Thesis/genomes-all_metadata.human.csv')\n",
    "sampled_df2 = df_human.sample(n=500, random_state = 42, replace = True) #sampling with replacement\n",
    "sampled = sampled_df2.iloc[:, [5, 14, 20]] #Select this columns\n",
    "print(sampled)\n",
    "nums = sampled.isnull().sum()\n",
    "print(nums)"
   ]
  },
  {
   "cell_type": "code",
   "execution_count": 7,
   "id": "731f4f71-e493-45c7-9dd3-360ded416840",
   "metadata": {},
   "outputs": [
    {
     "name": "stdout",
     "output_type": "stream",
     "text": [
      "      GC_content                                            Lineage Species\n",
      "3174       49.67  d__Bacteria;p__Firmicutes_A;c__Clostridia;o__O...     Pig\n",
      "3507       47.01  d__Bacteria;p__Bacteroidota;c__Bacteroidia;o__...     Pig\n",
      "860        48.49  d__Bacteria;p__Firmicutes;c__Bacilli;o__Lactob...     Pig\n",
      "1294       48.24  d__Bacteria;p__Bacteroidota;c__Bacteroidia;o__...     Pig\n",
      "1130       43.79  d__Bacteria;p__Bacteroidota;c__Bacteroidia;o__...     Pig\n",
      "...          ...                                                ...     ...\n",
      "1758       27.21  d__Bacteria;p__Firmicutes;c__Bacilli;o__RF39;f...     Pig\n",
      "2613       60.03  d__Bacteria;p__Firmicutes_A;c__Clostridia;o__O...     Pig\n",
      "569        48.30  d__Bacteria;p__Bacteroidota;c__Bacteroidia;o__...     Pig\n",
      "1346       55.83  d__Bacteria;p__Firmicutes_C;c__Negativicutes;o...     Pig\n",
      "1895       41.80  d__Bacteria;p__Bacteroidota;c__Bacteroidia;o__...     Pig\n",
      "\n",
      "[500 rows x 3 columns]\n"
     ]
    }
   ],
   "source": [
    "df_pig = pd.read_csv('C:/Users/ERC/Desktop/Thesis/genomes-all_metadata pig.csv')\n",
    "sampled_df3 = df_pig.sample(n=500, random_state = 42, replace = True)\n",
    "pig_data = sampled_df3.iloc[:, [5,14,20]]\n",
    "print(pig_data)"
   ]
  },
  {
   "cell_type": "code",
   "execution_count": 8,
   "id": "f5af5d12-7ea5-4d92-a1c0-c1ff9caa1e20",
   "metadata": {},
   "outputs": [
    {
     "name": "stdout",
     "output_type": "stream",
     "text": [
      "        GC_content                                            Lineage Species\n",
      "15795        26.54  d__Bacteria;p__Bacillota_A;c__Clostridia;o__TA...   Mouse\n",
      "860          44.76  d__Bacteria;p__Bacillota_A;c__Clostridia;o__Ch...   Mouse\n",
      "103694       47.57  d__Bacteria;p__Bacillota_A;c__Clostridia;o__La...   Mouse\n",
      "110268       47.54  d__Bacteria;p__Bacillota_A;c__Clostridia;o__La...   Mouse\n",
      "76820        49.89  d__Bacteria;p__Bacteroidota;c__Bacteroidia;o__...   Mouse\n",
      "...            ...                                                ...     ...\n",
      "68027        51.61  d__Bacteria;p__Bacillota_A;c__Clostridia;o__La...   Mouse\n",
      "92772        46.19  d__Bacteria;p__Bacillota_A;c__Clostridia;o__La...   Mouse\n",
      "80135        35.21  d__Bacteria;p__Bacillota;c__Bacilli;o__Acholep...   Mouse\n",
      "19508        54.02  d__Bacteria;p__Bacteroidota;c__Bacteroidia;o__...   Mouse\n",
      "3051         58.45  d__Bacteria;p__Bacillota_A;c__Clostridia;o__Os...   Mouse\n",
      "\n",
      "[500 rows x 3 columns]\n"
     ]
    }
   ],
   "source": [
    "df_mouse = pd.read_csv('C:/Users/ERC/Desktop/Thesis/genomes-all_metadata mouse.csv')\n",
    "sampled_df4 = df_mouse.sample(n=500, random_state = 42, replace = True)\n",
    "mouse_df = sampled_df4.iloc[:,[5,14,20]]\n",
    "print(mouse_df)"
   ]
  },
  {
   "cell_type": "code",
   "execution_count": 9,
   "id": "6552160b-609b-47b5-b3c7-f6da4084d6cb",
   "metadata": {},
   "outputs": [
    {
     "name": "stdout",
     "output_type": "stream",
     "text": [
      "       GC_content                                            Lineage  Species\n",
      "7270        36.92  d__Bacteria;p__Firmicutes;c__Bacilli;o__Lactob...  Chicken\n",
      "860         47.91  d__Bacteria;p__Firmicutes_A;c__Clostridia;o__C...  Chicken\n",
      "5390        34.09  d__Bacteria;p__Firmicutes;c__Bacilli;o__Lactob...  Chicken\n",
      "5191        41.73  d__Bacteria;p__Firmicutes;c__Bacilli;o__Lactob...  Chicken\n",
      "11964       40.27  d__Bacteria;p__Firmicutes_A;c__Clostridia;o__C...  Chicken\n",
      "...           ...                                                ...      ...\n",
      "3124        55.61  d__Bacteria;p__Firmicutes_A;c__Clostridia;o__L...  Chicken\n",
      "5691        49.38  d__Bacteria;p__Firmicutes_A;c__Clostridia;o__O...  Chicken\n",
      "3051        45.83  d__Bacteria;p__Firmicutes_A;c__Clostridia;o__C...  Chicken\n",
      "4           59.44  d__Bacteria;p__Firmicutes_A;c__Clostridia;o__O...  Chicken\n",
      "5222        53.82  d__Bacteria;p__Firmicutes_A;c__Clostridia;o__O...  Chicken\n",
      "\n",
      "[500 rows x 3 columns]\n"
     ]
    }
   ],
   "source": [
    "df_chicken = pd.read_csv('C:/Users/ERC/Desktop/Thesis/genomes-all_metadata chicken.csv')\n",
    "sampled_df5 = df_chicken.sample(n=500, random_state = 42, replace = True)\n",
    "chicken_df = sampled_df5.iloc[:,[5,14,20]]\n",
    "print(chicken_df)"
   ]
  },
  {
   "cell_type": "code",
   "execution_count": 10,
   "id": "2d8c37cc-603a-4f2d-9d42-98c730cabff4",
   "metadata": {},
   "outputs": [
    {
     "name": "stdout",
     "output_type": "stream",
     "text": [
      "     GC_content                                            Lineage   Species\n",
      "102       55.38  d__Bacteria;p__Pseudomonadota;c__Alphaproteoba...  Honeybee\n",
      "435       33.66  d__Bacteria;p__Pseudomonadota;c__Gammaproteoba...  Honeybee\n",
      "270       50.70  d__Bacteria;p__Pseudomonadota;c__Gammaproteoba...  Honeybee\n",
      "106       35.54  d__Bacteria;p__Bacillota;c__Bacilli;o__Lactoba...  Honeybee\n",
      "71        33.41  d__Bacteria;p__Pseudomonadota;c__Gammaproteoba...  Honeybee\n",
      "..          ...                                                ...       ...\n",
      "222       60.57  d__Bacteria;p__Actinomycetota;c__Actinomycetia...  Honeybee\n",
      "132       45.43  d__Bacteria;p__Pseudomonadota;c__Alphaproteoba...  Honeybee\n",
      "162       33.73  d__Bacteria;p__Pseudomonadota;c__Gammaproteoba...  Honeybee\n",
      "214       36.82  d__Bacteria;p__Bacillota;c__Bacilli;o__Lactoba...  Honeybee\n",
      "234       33.77  d__Bacteria;p__Pseudomonadota;c__Gammaproteoba...  Honeybee\n",
      "\n",
      "[500 rows x 3 columns]\n"
     ]
    }
   ],
   "source": [
    "df_honeybee = pd.read_csv('C:/Users/ERC/Desktop/Thesis/genomes-all_metadata honeybee.csv')\n",
    "sampled_df6 = df_honeybee.sample(n=500, random_state = 42, replace = True)\n",
    "honeybee_df = sampled_df6.iloc[:,[5,14,20]]\n",
    "print(honeybee_df)\n",
    "#domain"
   ]
  },
  {
   "cell_type": "code",
   "execution_count": 11,
   "id": "aed3da8c-5abd-408e-92ad-f461e4a5c4a0",
   "metadata": {},
   "outputs": [
    {
     "name": "stdout",
     "output_type": "stream",
     "text": [
      "        GC_content                                            Lineage Species  \\\n",
      "121958       57.39  d__Bacteria;p__Proteobacteria;c__Gammaproteoba...   Human   \n",
      "146867       29.78  d__Bacteria;p__Firmicutes_A;c__Clostridia;o__C...   Human   \n",
      "131932       49.10  d__Bacteria;p__Firmicutes_A;c__Clostridia;o__L...   Human   \n",
      "259178       55.09  d__Bacteria;p__Proteobacteria;c__Gammaproteoba...   Human   \n",
      "119879       48.28  d__Bacteria;p__Firmicutes_A;c__Clostridia;o__L...   Human   \n",
      "...            ...                                                ...     ...   \n",
      "21689        48.53  d__Bacteria;p__Firmicutes_A;c__Clostridia;o__L...   Human   \n",
      "273318       44.12  d__Bacteria;p__Bacteroidota;c__Bacteroidia;o__...   Human   \n",
      "9348         60.02  d__Bacteria;p__Firmicutes_A;c__Clostridia;o__O...   Human   \n",
      "38102        57.60  d__Bacteria;p__Actinobacteriota;c__Coriobacter...   Human   \n",
      "74460        61.38  d__Bacteria;p__Firmicutes_A;c__Clostridia_A;o_...   Human   \n",
      "\n",
      "                  Phylum                Class               Order  \\\n",
      "121958    Proteobacteria  Gammaproteobacteria    Enterobacterales   \n",
      "146867      Firmicutes_A           Clostridia       Clostridiales   \n",
      "131932      Firmicutes_A           Clostridia      Lachnospirales   \n",
      "259178    Proteobacteria  Gammaproteobacteria     Burkholderiales   \n",
      "119879      Firmicutes_A           Clostridia      Lachnospirales   \n",
      "...                  ...                  ...                 ...   \n",
      "21689       Firmicutes_A           Clostridia      Lachnospirales   \n",
      "273318      Bacteroidota          Bacteroidia       Bacteroidales   \n",
      "9348        Firmicutes_A           Clostridia     Oscillospirales   \n",
      "38102   Actinobacteriota       Coriobacteriia    Coriobacteriales   \n",
      "74460       Firmicutes_A         Clostridia_A  Christensenellales   \n",
      "\n",
      "                    Family  \n",
      "121958  Enterobacteriaceae  \n",
      "146867      Clostridiaceae  \n",
      "131932     Lachnospiraceae  \n",
      "259178    Burkholderiaceae  \n",
      "119879     Anaerotignaceae  \n",
      "...                    ...  \n",
      "21689      Lachnospiraceae  \n",
      "273318      Marinifilaceae  \n",
      "9348       Ruminococcaceae  \n",
      "38102      Eggerthellaceae  \n",
      "74460               CAG-74  \n",
      "\n",
      "[500 rows x 7 columns]\n"
     ]
    }
   ],
   "source": [
    "def extract_taxonomy(lineage):\n",
    "    if pd.isna(lineage):\n",
    "        return pd.Series([None, None, None, None])  # Handle missing lineage\n",
    "\n",
    "    # Define regex patterns for each taxonomy level\n",
    "    phylum = re.search(r'p__([^;]+)', lineage)\n",
    "    class_ = re.search(r'c__([^;]+)', lineage)\n",
    "    order = re.search(r'o__([^;]+)', lineage)\n",
    "    family = re.search(r'f__([^;]+)', lineage)\n",
    "    \n",
    "    # Return the matched taxonomy levels, or None if not found\n",
    "    return pd.Series([\n",
    "        phylum.group(1) if phylum else None,\n",
    "        class_.group(1) if class_ else None,\n",
    "        order.group(1) if order else None,\n",
    "        family.group(1) if family else None\n",
    "    ])\n",
    "\n",
    "# Apply the extract_taxonomy function to the Lineage column\n",
    "taxonomy_df = sampled['Lineage'].apply(extract_taxonomy)\n",
    "\n",
    "# Assign appropriate column names\n",
    "taxonomy_df.columns = ['Phylum', 'Class', 'Order', 'Family']\n",
    "\n",
    "# Combine the extracted taxonomy data with the original DataFrame\n",
    "sampled = pd.concat([sampled, taxonomy_df], axis=1)\n",
    "\n",
    "# Check the result\n",
    "print(sampled)"
   ]
  },
  {
   "cell_type": "code",
   "execution_count": 12,
   "id": "ec225465-32ba-464d-b28f-2809aa81fd8b",
   "metadata": {},
   "outputs": [
    {
     "name": "stdout",
     "output_type": "stream",
     "text": [
      "GC_content    0\n",
      "Lineage       0\n",
      "Species       0\n",
      "Phylum        0\n",
      "Class         0\n",
      "Order         0\n",
      "Family        0\n",
      "dtype: int64\n"
     ]
    }
   ],
   "source": [
    "nums = sampled.isnull().sum()\n",
    "print(nums)"
   ]
  },
  {
   "cell_type": "code",
   "execution_count": 13,
   "id": "57d7f689-e23f-4b22-9e3b-11c7bc2cebc4",
   "metadata": {},
   "outputs": [
    {
     "name": "stdout",
     "output_type": "stream",
     "text": [
      "     GC_content                                            Lineage   Species  \\\n",
      "102       55.38  d__Bacteria;p__Pseudomonadota;c__Alphaproteoba...  Honeybee   \n",
      "435       33.66  d__Bacteria;p__Pseudomonadota;c__Gammaproteoba...  Honeybee   \n",
      "270       50.70  d__Bacteria;p__Pseudomonadota;c__Gammaproteoba...  Honeybee   \n",
      "106       35.54  d__Bacteria;p__Bacillota;c__Bacilli;o__Lactoba...  Honeybee   \n",
      "71        33.41  d__Bacteria;p__Pseudomonadota;c__Gammaproteoba...  Honeybee   \n",
      "..          ...                                                ...       ...   \n",
      "222       60.57  d__Bacteria;p__Actinomycetota;c__Actinomycetia...  Honeybee   \n",
      "132       45.43  d__Bacteria;p__Pseudomonadota;c__Alphaproteoba...  Honeybee   \n",
      "162       33.73  d__Bacteria;p__Pseudomonadota;c__Gammaproteoba...  Honeybee   \n",
      "214       36.82  d__Bacteria;p__Bacillota;c__Bacilli;o__Lactoba...  Honeybee   \n",
      "234       33.77  d__Bacteria;p__Pseudomonadota;c__Gammaproteoba...  Honeybee   \n",
      "\n",
      "             Phylum                Class             Order              Family  \n",
      "102  Pseudomonadota  Alphaproteobacteria   Acetobacterales    Acetobacteraceae  \n",
      "435  Pseudomonadota  Gammaproteobacteria  Enterobacterales  Enterobacteriaceae  \n",
      "270  Pseudomonadota  Gammaproteobacteria  Enterobacterales  Enterobacteriaceae  \n",
      "106       Bacillota              Bacilli   Lactobacillales    Lactobacillaceae  \n",
      "71   Pseudomonadota  Gammaproteobacteria  Enterobacterales  Enterobacteriaceae  \n",
      "..              ...                  ...               ...                 ...  \n",
      "222  Actinomycetota        Actinomycetia   Actinomycetales  Bifidobacteriaceae  \n",
      "132  Pseudomonadota  Alphaproteobacteria       Rhizobiales        Rhizobiaceae  \n",
      "162  Pseudomonadota  Gammaproteobacteria  Enterobacterales  Enterobacteriaceae  \n",
      "214       Bacillota              Bacilli   Lactobacillales    Lactobacillaceae  \n",
      "234  Pseudomonadota  Gammaproteobacteria  Enterobacterales  Enterobacteriaceae  \n",
      "\n",
      "[500 rows x 7 columns]\n"
     ]
    }
   ],
   "source": [
    "def extract_taxonomy(lineage):\n",
    "    if pd.isna(lineage):\n",
    "        return pd.Series([None, None, None, None])  # Handle missing lineage\n",
    "\n",
    "    # Define regex patterns for each taxonomy level\n",
    "    phylum = re.search(r'p__([^;]+)', lineage)\n",
    "    class_ = re.search(r'c__([^;]+)', lineage)\n",
    "    order = re.search(r'o__([^;]+)', lineage)\n",
    "    family = re.search(r'f__([^;]+)', lineage)\n",
    "    \n",
    "    # Return the matched taxonomy levels, or None if not found\n",
    "    return pd.Series([\n",
    "        phylum.group(1) if phylum else None,\n",
    "        class_.group(1) if class_ else None,\n",
    "        order.group(1) if order else None,\n",
    "        family.group(1) if family else None\n",
    "    ])\n",
    "\n",
    "# Apply the extract_taxonomy function to the Lineage column\n",
    "taxonomy_df = honeybee_df['Lineage'].apply(extract_taxonomy)\n",
    "\n",
    "# Assign appropriate column names\n",
    "taxonomy_df.columns = ['Phylum', 'Class', 'Order', 'Family']\n",
    "\n",
    "# Combine the extracted taxonomy data with the original DataFrame\n",
    "honeybee_df = pd.concat([honeybee_df, taxonomy_df], axis=1)\n",
    "\n",
    "# Check the result\n",
    "print(honeybee_df)"
   ]
  },
  {
   "cell_type": "code",
   "execution_count": 14,
   "id": "adc04e66-02bd-4e85-9c10-6255045b3e46",
   "metadata": {},
   "outputs": [
    {
     "name": "stdout",
     "output_type": "stream",
     "text": [
      "GC_content    0\n",
      "Lineage       0\n",
      "Species       0\n",
      "Phylum        0\n",
      "Class         0\n",
      "Order         0\n",
      "Family        0\n",
      "dtype: int64\n"
     ]
    }
   ],
   "source": [
    "nums = honeybee_df.isnull().sum()\n",
    "print(nums)"
   ]
  },
  {
   "cell_type": "code",
   "execution_count": 15,
   "id": "c9164509-c282-42ca-8dcf-54b148f68d01",
   "metadata": {},
   "outputs": [
    {
     "name": "stdout",
     "output_type": "stream",
     "text": [
      "      GC_content                                            Lineage Species  \\\n",
      "3174       49.67  d__Bacteria;p__Firmicutes_A;c__Clostridia;o__O...     Pig   \n",
      "3507       47.01  d__Bacteria;p__Bacteroidota;c__Bacteroidia;o__...     Pig   \n",
      "860        48.49  d__Bacteria;p__Firmicutes;c__Bacilli;o__Lactob...     Pig   \n",
      "1294       48.24  d__Bacteria;p__Bacteroidota;c__Bacteroidia;o__...     Pig   \n",
      "1130       43.79  d__Bacteria;p__Bacteroidota;c__Bacteroidia;o__...     Pig   \n",
      "...          ...                                                ...     ...   \n",
      "1758       27.21  d__Bacteria;p__Firmicutes;c__Bacilli;o__RF39;f...     Pig   \n",
      "2613       60.03  d__Bacteria;p__Firmicutes_A;c__Clostridia;o__O...     Pig   \n",
      "569        48.30  d__Bacteria;p__Bacteroidota;c__Bacteroidia;o__...     Pig   \n",
      "1346       55.83  d__Bacteria;p__Firmicutes_C;c__Negativicutes;o...     Pig   \n",
      "1895       41.80  d__Bacteria;p__Bacteroidota;c__Bacteroidia;o__...     Pig   \n",
      "\n",
      "            Phylum          Class              Order              Family  \n",
      "3174  Firmicutes_A     Clostridia    Oscillospirales  Acutalibacteraceae  \n",
      "3507  Bacteroidota    Bacteroidia      Bacteroidales      Bacteroidaceae  \n",
      "860     Firmicutes        Bacilli    Lactobacillales    Lactobacillaceae  \n",
      "1294  Bacteroidota    Bacteroidia      Bacteroidales      Muribaculaceae  \n",
      "1130  Bacteroidota    Bacteroidia      Bacteroidales      Bacteroidaceae  \n",
      "...            ...            ...                ...                 ...  \n",
      "1758    Firmicutes        Bacilli               RF39              UBA660  \n",
      "2613  Firmicutes_A     Clostridia    Oscillospirales   Butyricicoccaceae  \n",
      "569   Bacteroidota    Bacteroidia      Bacteroidales      Muribaculaceae  \n",
      "1346  Firmicutes_C  Negativicutes  Acidaminococcales  Acidaminococcaceae  \n",
      "1895  Bacteroidota    Bacteroidia      Bacteroidales      Bacteroidaceae  \n",
      "\n",
      "[500 rows x 7 columns]\n"
     ]
    }
   ],
   "source": [
    "def extract_taxonomy(lineage):\n",
    "    if pd.isna(lineage):\n",
    "        return pd.Series([None, None, None, None])  # Handle missing lineage\n",
    "\n",
    "    # Define regex patterns for each taxonomy level\n",
    "    phylum = re.search(r'p__([^;]+)', lineage)\n",
    "    class_ = re.search(r'c__([^;]+)', lineage)\n",
    "    order = re.search(r'o__([^;]+)', lineage)\n",
    "    family = re.search(r'f__([^;]+)', lineage)\n",
    "    \n",
    "    # Return the matched taxonomy levels, or None if not found\n",
    "    return pd.Series([\n",
    "        phylum.group(1) if phylum else None,\n",
    "        class_.group(1) if class_ else None,\n",
    "        order.group(1) if order else None,\n",
    "        family.group(1) if family else None\n",
    "    ])\n",
    "\n",
    "# Apply the extract_taxonomy function to the Lineage column\n",
    "taxonomy_df = pig_data['Lineage'].apply(extract_taxonomy)\n",
    "\n",
    "# Assign appropriate column names\n",
    "taxonomy_df.columns = ['Phylum', 'Class', 'Order', 'Family']\n",
    "\n",
    "# Combine the extracted taxonomy data with the original DataFrame\n",
    "pig_data = pd.concat([pig_data, taxonomy_df], axis=1)\n",
    "\n",
    "# Check the result\n",
    "print(pig_data)"
   ]
  },
  {
   "cell_type": "code",
   "execution_count": 16,
   "id": "a7f5b9b3-dc1f-47c7-af58-c78c78d2e7ea",
   "metadata": {},
   "outputs": [
    {
     "name": "stdout",
     "output_type": "stream",
     "text": [
      "GC_content    0\n",
      "Lineage       0\n",
      "Species       0\n",
      "Phylum        0\n",
      "Class         0\n",
      "Order         0\n",
      "Family        0\n",
      "dtype: int64\n"
     ]
    }
   ],
   "source": [
    "nums = pig_data.isnull().sum()\n",
    "print(nums)"
   ]
  },
  {
   "cell_type": "code",
   "execution_count": 17,
   "id": "d79a50f9-d5d8-4d16-9253-c1bed3e17160",
   "metadata": {},
   "outputs": [
    {
     "name": "stdout",
     "output_type": "stream",
     "text": [
      "        GC_content                                            Lineage Species  \\\n",
      "15795        26.54  d__Bacteria;p__Bacillota_A;c__Clostridia;o__TA...   Mouse   \n",
      "860          44.76  d__Bacteria;p__Bacillota_A;c__Clostridia;o__Ch...   Mouse   \n",
      "103694       47.57  d__Bacteria;p__Bacillota_A;c__Clostridia;o__La...   Mouse   \n",
      "110268       47.54  d__Bacteria;p__Bacillota_A;c__Clostridia;o__La...   Mouse   \n",
      "76820        49.89  d__Bacteria;p__Bacteroidota;c__Bacteroidia;o__...   Mouse   \n",
      "...            ...                                                ...     ...   \n",
      "68027        51.61  d__Bacteria;p__Bacillota_A;c__Clostridia;o__La...   Mouse   \n",
      "92772        46.19  d__Bacteria;p__Bacillota_A;c__Clostridia;o__La...   Mouse   \n",
      "80135        35.21  d__Bacteria;p__Bacillota;c__Bacilli;o__Acholep...   Mouse   \n",
      "19508        54.02  d__Bacteria;p__Bacteroidota;c__Bacteroidia;o__...   Mouse   \n",
      "3051         58.45  d__Bacteria;p__Bacillota_A;c__Clostridia;o__Os...   Mouse   \n",
      "\n",
      "              Phylum        Class               Order              Family  \n",
      "15795    Bacillota_A   Clostridia              TANB77             CAG-508  \n",
      "860      Bacillota_A   Clostridia  Christensenellales      Borkfalkiaceae  \n",
      "103694   Bacillota_A   Clostridia      Lachnospirales     Lachnospiraceae  \n",
      "110268   Bacillota_A   Clostridia      Lachnospirales     Lachnospiraceae  \n",
      "76820   Bacteroidota  Bacteroidia       Bacteroidales      Muribaculaceae  \n",
      "...              ...          ...                 ...                 ...  \n",
      "68027    Bacillota_A   Clostridia      Lachnospirales     Lachnospiraceae  \n",
      "92772    Bacillota_A   Clostridia      Lachnospirales     Lachnospiraceae  \n",
      "80135      Bacillota      Bacilli   Acholeplasmatales  Anaeroplasmataceae  \n",
      "19508   Bacteroidota  Bacteroidia       Bacteroidales      Muribaculaceae  \n",
      "3051     Bacillota_A   Clostridia     Oscillospirales  Acutalibacteraceae  \n",
      "\n",
      "[500 rows x 7 columns]\n"
     ]
    }
   ],
   "source": [
    "\n",
    "def extract_taxonomy(lineage):\n",
    "    if pd.isna(lineage):\n",
    "        return pd.Series([None, None, None, None])  # Handle missing lineage\n",
    "\n",
    "    # Define regex patterns for each taxonomy level\n",
    "    phylum = re.search(r'p__([^;]+)', lineage)\n",
    "    class_ = re.search(r'c__([^;]+)', lineage)\n",
    "    order = re.search(r'o__([^;]+)', lineage)\n",
    "    family = re.search(r'f__([^;]+)', lineage)\n",
    "    \n",
    "    # Return the matched taxonomy levels, or None if not found\n",
    "    return pd.Series([\n",
    "        phylum.group(1) if phylum else None,\n",
    "        class_.group(1) if class_ else None,\n",
    "        order.group(1) if order else None,\n",
    "        family.group(1) if family else None\n",
    "    ])\n",
    "\n",
    "# Apply the extract_taxonomy function to the Lineage column\n",
    "taxonomy_df = mouse_df['Lineage'].apply(extract_taxonomy)\n",
    "\n",
    "# Assign appropriate column names\n",
    "taxonomy_df.columns = ['Phylum', 'Class', 'Order', 'Family']\n",
    "\n",
    "# Combine the extracted taxonomy data with the original DataFrame\n",
    "mouse_df = pd.concat([mouse_df, taxonomy_df], axis=1)\n",
    "\n",
    "# Check the result\n",
    "print(mouse_df)"
   ]
  },
  {
   "cell_type": "code",
   "execution_count": 18,
   "id": "0d191ab5-7426-45df-ac78-dc4d36d06dd0",
   "metadata": {},
   "outputs": [
    {
     "name": "stdout",
     "output_type": "stream",
     "text": [
      "GC_content    0\n",
      "Lineage       0\n",
      "Species       0\n",
      "Phylum        0\n",
      "Class         0\n",
      "Order         0\n",
      "Family        0\n",
      "dtype: int64\n"
     ]
    }
   ],
   "source": [
    "nums = mouse_df.isnull().sum()\n",
    "print(nums)"
   ]
  },
  {
   "cell_type": "code",
   "execution_count": 19,
   "id": "198c2a1c-e893-4496-ba2c-915e4630181c",
   "metadata": {},
   "outputs": [
    {
     "name": "stdout",
     "output_type": "stream",
     "text": [
      "       GC_content                                            Lineage  Species  \\\n",
      "7270        36.92  d__Bacteria;p__Firmicutes;c__Bacilli;o__Lactob...  Chicken   \n",
      "860         47.91  d__Bacteria;p__Firmicutes_A;c__Clostridia;o__C...  Chicken   \n",
      "5390        34.09  d__Bacteria;p__Firmicutes;c__Bacilli;o__Lactob...  Chicken   \n",
      "5191        41.73  d__Bacteria;p__Firmicutes;c__Bacilli;o__Lactob...  Chicken   \n",
      "11964       40.27  d__Bacteria;p__Firmicutes_A;c__Clostridia;o__C...  Chicken   \n",
      "...           ...                                                ...      ...   \n",
      "3124        55.61  d__Bacteria;p__Firmicutes_A;c__Clostridia;o__L...  Chicken   \n",
      "5691        49.38  d__Bacteria;p__Firmicutes_A;c__Clostridia;o__O...  Chicken   \n",
      "3051        45.83  d__Bacteria;p__Firmicutes_A;c__Clostridia;o__C...  Chicken   \n",
      "4           59.44  d__Bacteria;p__Firmicutes_A;c__Clostridia;o__O...  Chicken   \n",
      "5222        53.82  d__Bacteria;p__Firmicutes_A;c__Clostridia;o__O...  Chicken   \n",
      "\n",
      "             Phylum       Class               Order              Family  \n",
      "7270     Firmicutes     Bacilli     Lactobacillales    Lactobacillaceae  \n",
      "860    Firmicutes_A  Clostridia  Christensenellales      Borkfalkiaceae  \n",
      "5390     Firmicutes     Bacilli     Lactobacillales    Lactobacillaceae  \n",
      "5191     Firmicutes     Bacilli     Lactobacillales    Lactobacillaceae  \n",
      "11964  Firmicutes_A  Clostridia  Christensenellales             UBA1242  \n",
      "...             ...         ...                 ...                 ...  \n",
      "3124   Firmicutes_A  Clostridia      Lachnospirales     Lachnospiraceae  \n",
      "5691   Firmicutes_A  Clostridia     Oscillospirales  Acutalibacteraceae  \n",
      "3051   Firmicutes_A  Clostridia  Christensenellales             CAG-314  \n",
      "4      Firmicutes_A  Clostridia     Oscillospirales     Ruminococcaceae  \n",
      "5222   Firmicutes_A  Clostridia     Oscillospirales  Acutalibacteraceae  \n",
      "\n",
      "[500 rows x 7 columns]\n"
     ]
    }
   ],
   "source": [
    "def extract_taxonomy(lineage):\n",
    "    if pd.isna(lineage):\n",
    "        return pd.Series([None, None, None, None])  # Handle missing lineage\n",
    "\n",
    "    # Define regex patterns for each taxonomy level\n",
    "    phylum = re.search(r'p__([^;]+)', lineage)\n",
    "    class_ = re.search(r'c__([^;]+)', lineage)\n",
    "    order = re.search(r'o__([^;]+)', lineage)\n",
    "    family = re.search(r'f__([^;]+)', lineage)\n",
    "    \n",
    "    # Return the matched taxonomy levels, or None if not found\n",
    "    return pd.Series([\n",
    "        phylum.group(1) if phylum else None,\n",
    "        class_.group(1) if class_ else None,\n",
    "        order.group(1) if order else None,\n",
    "        family.group(1) if family else None\n",
    "    ])\n",
    "\n",
    "# Apply the extract_taxonomy function to the Lineage column\n",
    "taxonomy_df = chicken_df['Lineage'].apply(extract_taxonomy)\n",
    "\n",
    "# Assign appropriate column names\n",
    "taxonomy_df.columns = ['Phylum', 'Class', 'Order', 'Family']\n",
    "\n",
    "# Combine the extracted taxonomy data with the original DataFrame\n",
    "chicken_df = pd.concat([chicken_df, taxonomy_df], axis=1)\n",
    "\n",
    "# Check the result\n",
    "print(chicken_df)"
   ]
  },
  {
   "cell_type": "code",
   "execution_count": 20,
   "id": "fa794a4b-5065-4d69-9252-c7fd6ff2274b",
   "metadata": {},
   "outputs": [
    {
     "name": "stdout",
     "output_type": "stream",
     "text": [
      "GC_content    0\n",
      "Lineage       0\n",
      "Species       0\n",
      "Phylum        0\n",
      "Class         0\n",
      "Order         0\n",
      "Family        0\n",
      "dtype: int64\n"
     ]
    }
   ],
   "source": [
    "nums = chicken_df.isnull().sum()\n",
    "print(nums)"
   ]
  },
  {
   "cell_type": "code",
   "execution_count": 21,
   "id": "ee291b84-dc9d-4006-b57e-b8fc93aff27c",
   "metadata": {},
   "outputs": [
    {
     "name": "stdout",
     "output_type": "stream",
     "text": [
      "['Honeybee' 'Chicken' 'Mouse' 'Human' 'Pig']\n"
     ]
    }
   ],
   "source": [
    "final_df = pd.concat([honeybee_df[['GC_content', 'Phylum', 'Class', 'Order', 'Family', 'Species']],\n",
    "                      chicken_df[['GC_content', 'Phylum', 'Class', 'Order', 'Family', 'Species']],\n",
    "                      mouse_df[['GC_content', 'Phylum', 'Class', 'Order', 'Family', 'Species']],\n",
    "                      sampled[['GC_content', 'Phylum', 'Class', 'Order', 'Family', 'Species']],\n",
    "                        pig_data[['GC_content', 'Phylum', 'Class', 'Order', 'Family', 'Species']]], axis = 0).reset_index(drop=True)             \n",
    "#print(final_df)\n",
    "#display(final_df)\n",
    "\n",
    "nums = final_df['Species'].unique()\n",
    "print(nums)"
   ]
  },
  {
   "cell_type": "code",
   "execution_count": 22,
   "id": "d236c4eb-1629-4ef9-8e6f-33790268a188",
   "metadata": {},
   "outputs": [
    {
     "name": "stdout",
     "output_type": "stream",
     "text": [
      "GC_content    0\n",
      "Phylum        0\n",
      "Class         0\n",
      "Order         0\n",
      "Family        0\n",
      "Species       0\n",
      "dtype: int64\n"
     ]
    }
   ],
   "source": [
    "nums = final_df.isnull().sum()\n",
    "print(nums)"
   ]
  },
  {
   "cell_type": "code",
   "execution_count": 23,
   "id": "1cca30d9-7e05-4ade-83cd-bd9ea2ae1931",
   "metadata": {},
   "outputs": [
    {
     "data": {
      "text/html": [
       "<div>\n",
       "<style scoped>\n",
       "    .dataframe tbody tr th:only-of-type {\n",
       "        vertical-align: middle;\n",
       "    }\n",
       "\n",
       "    .dataframe tbody tr th {\n",
       "        vertical-align: top;\n",
       "    }\n",
       "\n",
       "    .dataframe thead th {\n",
       "        text-align: right;\n",
       "    }\n",
       "</style>\n",
       "<table border=\"1\" class=\"dataframe\">\n",
       "  <thead>\n",
       "    <tr style=\"text-align: right;\">\n",
       "      <th></th>\n",
       "      <th>GC_content</th>\n",
       "      <th>Phylum</th>\n",
       "      <th>Class</th>\n",
       "      <th>Order</th>\n",
       "      <th>Family</th>\n",
       "      <th>Species</th>\n",
       "      <th>Species_encoded</th>\n",
       "      <th>Phylum_encoded</th>\n",
       "      <th>Class_encoded</th>\n",
       "      <th>Order_encoded</th>\n",
       "      <th>Family_encoded</th>\n",
       "    </tr>\n",
       "  </thead>\n",
       "  <tbody>\n",
       "    <tr>\n",
       "      <th>0</th>\n",
       "      <td>55.38</td>\n",
       "      <td>Pseudomonadota</td>\n",
       "      <td>Alphaproteobacteria</td>\n",
       "      <td>Acetobacterales</td>\n",
       "      <td>Acetobacteraceae</td>\n",
       "      <td>Honeybee</td>\n",
       "      <td>1</td>\n",
       "      <td>1.101190</td>\n",
       "      <td>1.357143</td>\n",
       "      <td>1.000000</td>\n",
       "      <td>1.000000</td>\n",
       "    </tr>\n",
       "    <tr>\n",
       "      <th>1</th>\n",
       "      <td>33.66</td>\n",
       "      <td>Pseudomonadota</td>\n",
       "      <td>Gammaproteobacteria</td>\n",
       "      <td>Enterobacterales</td>\n",
       "      <td>Enterobacteriaceae</td>\n",
       "      <td>Honeybee</td>\n",
       "      <td>1</td>\n",
       "      <td>1.101190</td>\n",
       "      <td>1.235484</td>\n",
       "      <td>1.214912</td>\n",
       "      <td>1.102326</td>\n",
       "    </tr>\n",
       "    <tr>\n",
       "      <th>2</th>\n",
       "      <td>50.70</td>\n",
       "      <td>Pseudomonadota</td>\n",
       "      <td>Gammaproteobacteria</td>\n",
       "      <td>Enterobacterales</td>\n",
       "      <td>Enterobacteriaceae</td>\n",
       "      <td>Honeybee</td>\n",
       "      <td>1</td>\n",
       "      <td>1.101190</td>\n",
       "      <td>1.235484</td>\n",
       "      <td>1.214912</td>\n",
       "      <td>1.102326</td>\n",
       "    </tr>\n",
       "    <tr>\n",
       "      <th>3</th>\n",
       "      <td>35.54</td>\n",
       "      <td>Bacillota</td>\n",
       "      <td>Bacilli</td>\n",
       "      <td>Lactobacillales</td>\n",
       "      <td>Lactobacillaceae</td>\n",
       "      <td>Honeybee</td>\n",
       "      <td>1</td>\n",
       "      <td>1.505882</td>\n",
       "      <td>1.693252</td>\n",
       "      <td>1.477612</td>\n",
       "      <td>1.443850</td>\n",
       "    </tr>\n",
       "    <tr>\n",
       "      <th>4</th>\n",
       "      <td>33.41</td>\n",
       "      <td>Pseudomonadota</td>\n",
       "      <td>Gammaproteobacteria</td>\n",
       "      <td>Enterobacterales</td>\n",
       "      <td>Enterobacteriaceae</td>\n",
       "      <td>Honeybee</td>\n",
       "      <td>1</td>\n",
       "      <td>1.101190</td>\n",
       "      <td>1.235484</td>\n",
       "      <td>1.214912</td>\n",
       "      <td>1.102326</td>\n",
       "    </tr>\n",
       "    <tr>\n",
       "      <th>...</th>\n",
       "      <td>...</td>\n",
       "      <td>...</td>\n",
       "      <td>...</td>\n",
       "      <td>...</td>\n",
       "      <td>...</td>\n",
       "      <td>...</td>\n",
       "      <td>...</td>\n",
       "      <td>...</td>\n",
       "      <td>...</td>\n",
       "      <td>...</td>\n",
       "      <td>...</td>\n",
       "    </tr>\n",
       "    <tr>\n",
       "      <th>2495</th>\n",
       "      <td>27.21</td>\n",
       "      <td>Firmicutes</td>\n",
       "      <td>Bacilli</td>\n",
       "      <td>RF39</td>\n",
       "      <td>UBA660</td>\n",
       "      <td>Pig</td>\n",
       "      <td>4</td>\n",
       "      <td>1.897436</td>\n",
       "      <td>1.693252</td>\n",
       "      <td>1.733333</td>\n",
       "      <td>1.733333</td>\n",
       "    </tr>\n",
       "    <tr>\n",
       "      <th>2496</th>\n",
       "      <td>60.03</td>\n",
       "      <td>Firmicutes_A</td>\n",
       "      <td>Clostridia</td>\n",
       "      <td>Oscillospirales</td>\n",
       "      <td>Butyricicoccaceae</td>\n",
       "      <td>Pig</td>\n",
       "      <td>4</td>\n",
       "      <td>1.755208</td>\n",
       "      <td>2.007439</td>\n",
       "      <td>2.176471</td>\n",
       "      <td>1.235294</td>\n",
       "    </tr>\n",
       "    <tr>\n",
       "      <th>2497</th>\n",
       "      <td>48.30</td>\n",
       "      <td>Bacteroidota</td>\n",
       "      <td>Bacteroidia</td>\n",
       "      <td>Bacteroidales</td>\n",
       "      <td>Muribaculaceae</td>\n",
       "      <td>Pig</td>\n",
       "      <td>4</td>\n",
       "      <td>2.652952</td>\n",
       "      <td>2.652952</td>\n",
       "      <td>2.690476</td>\n",
       "      <td>3.049080</td>\n",
       "    </tr>\n",
       "    <tr>\n",
       "      <th>2498</th>\n",
       "      <td>55.83</td>\n",
       "      <td>Firmicutes_C</td>\n",
       "      <td>Negativicutes</td>\n",
       "      <td>Acidaminococcales</td>\n",
       "      <td>Acidaminococcaceae</td>\n",
       "      <td>Pig</td>\n",
       "      <td>4</td>\n",
       "      <td>2.342857</td>\n",
       "      <td>2.342857</td>\n",
       "      <td>2.000000</td>\n",
       "      <td>2.000000</td>\n",
       "    </tr>\n",
       "    <tr>\n",
       "      <th>2499</th>\n",
       "      <td>41.80</td>\n",
       "      <td>Bacteroidota</td>\n",
       "      <td>Bacteroidia</td>\n",
       "      <td>Bacteroidales</td>\n",
       "      <td>Bacteroidaceae</td>\n",
       "      <td>Pig</td>\n",
       "      <td>4</td>\n",
       "      <td>2.652952</td>\n",
       "      <td>2.652952</td>\n",
       "      <td>2.690476</td>\n",
       "      <td>2.728814</td>\n",
       "    </tr>\n",
       "  </tbody>\n",
       "</table>\n",
       "<p>2500 rows × 11 columns</p>\n",
       "</div>"
      ],
      "text/plain": [
       "      GC_content          Phylum                Class              Order  \\\n",
       "0          55.38  Pseudomonadota  Alphaproteobacteria    Acetobacterales   \n",
       "1          33.66  Pseudomonadota  Gammaproteobacteria   Enterobacterales   \n",
       "2          50.70  Pseudomonadota  Gammaproteobacteria   Enterobacterales   \n",
       "3          35.54       Bacillota              Bacilli    Lactobacillales   \n",
       "4          33.41  Pseudomonadota  Gammaproteobacteria   Enterobacterales   \n",
       "...          ...             ...                  ...                ...   \n",
       "2495       27.21      Firmicutes              Bacilli               RF39   \n",
       "2496       60.03    Firmicutes_A           Clostridia    Oscillospirales   \n",
       "2497       48.30    Bacteroidota          Bacteroidia      Bacteroidales   \n",
       "2498       55.83    Firmicutes_C        Negativicutes  Acidaminococcales   \n",
       "2499       41.80    Bacteroidota          Bacteroidia      Bacteroidales   \n",
       "\n",
       "                  Family   Species  Species_encoded  Phylum_encoded  \\\n",
       "0       Acetobacteraceae  Honeybee                1        1.101190   \n",
       "1     Enterobacteriaceae  Honeybee                1        1.101190   \n",
       "2     Enterobacteriaceae  Honeybee                1        1.101190   \n",
       "3       Lactobacillaceae  Honeybee                1        1.505882   \n",
       "4     Enterobacteriaceae  Honeybee                1        1.101190   \n",
       "...                  ...       ...              ...             ...   \n",
       "2495              UBA660       Pig                4        1.897436   \n",
       "2496   Butyricicoccaceae       Pig                4        1.755208   \n",
       "2497      Muribaculaceae       Pig                4        2.652952   \n",
       "2498  Acidaminococcaceae       Pig                4        2.342857   \n",
       "2499      Bacteroidaceae       Pig                4        2.652952   \n",
       "\n",
       "      Class_encoded  Order_encoded  Family_encoded  \n",
       "0          1.357143       1.000000        1.000000  \n",
       "1          1.235484       1.214912        1.102326  \n",
       "2          1.235484       1.214912        1.102326  \n",
       "3          1.693252       1.477612        1.443850  \n",
       "4          1.235484       1.214912        1.102326  \n",
       "...             ...            ...             ...  \n",
       "2495       1.693252       1.733333        1.733333  \n",
       "2496       2.007439       2.176471        1.235294  \n",
       "2497       2.652952       2.690476        3.049080  \n",
       "2498       2.342857       2.000000        2.000000  \n",
       "2499       2.652952       2.690476        2.728814  \n",
       "\n",
       "[2500 rows x 11 columns]"
      ]
     },
     "metadata": {},
     "output_type": "display_data"
    }
   ],
   "source": [
    "label_encoder = LabelEncoder()\n",
    "final_df['Species_encoded'] = label_encoder.fit_transform(final_df['Species'])\n",
    "\n",
    "# Now, let's target encode the 'Phylum' based on the encoded 'Species'\n",
    "phylum_mean = final_df.groupby('Phylum')['Species_encoded'].mean()\n",
    "final_df['Phylum_encoded'] = final_df['Phylum'].map(phylum_mean)\n",
    "\n",
    "#This groups the rows of final_df by the unique phyla and calculates the mean of the Species_encoded values for each phylum across \n",
    "#all species present in the dataset.\n",
    "# Similarly, target encode other categorical features\n",
    "\n",
    "class_mean = final_df.groupby('Class')['Species_encoded'].mean()\n",
    "final_df['Class_encoded'] = final_df['Class'].map(class_mean)\n",
    "\n",
    "order_mean = final_df.groupby('Order')['Species_encoded'].mean()\n",
    "final_df['Order_encoded'] = final_df['Order'].map(order_mean)\n",
    "\n",
    "family_mean = final_df.groupby('Family')['Species_encoded'].mean()\n",
    "final_df['Family_encoded'] = final_df['Family'].map(family_mean)\n",
    "\n",
    "display(final_df)"
   ]
  },
  {
   "cell_type": "code",
   "execution_count": 26,
   "id": "a27922b9-a273-4150-9292-8f1794f02e02",
   "metadata": {},
   "outputs": [
    {
     "name": "stdout",
     "output_type": "stream",
     "text": [
      "Best Hyperparameters: {'bootstrap': True, 'max_depth': 10, 'max_features': 'sqrt', 'min_samples_leaf': 1, 'min_samples_split': 5, 'n_estimators': 300}\n",
      "The best cross validation score/accuracy for RandomForest is: 0.758\n"
     ]
    }
   ],
   "source": [
    "X = final_df[['Phylum_encoded', 'Class_encoded', 'Order_encoded', 'Family_encoded', 'GC_content']]\n",
    "Y = final_df['Species_encoded']\n",
    "sc = StandardScaler()\n",
    "X_train, X_test, y_train, y_test = train_test_split(X, Y, test_size = 0.2, random_state = 42, stratify = Y)\n",
    "'''\n",
    "X_train_std = sc.fit_transform(X_train)\n",
    "X_test_std = sc.transform(X_test)\n",
    "'''\n",
    "rf = RandomForestClassifier(random_state=42)\n",
    "\n",
    "param_grid = {\n",
    "    'n_estimators': [100, 200, 300],  # Number of trees in the forest\n",
    "    'max_depth': [None, 10, 20, 30],  # Maximum depth of the trees\n",
    "    'min_samples_split': [2, 5, 10],  # Minimum number of samples required to split a node\n",
    "    'min_samples_leaf': [1, 2, 4],    # Minimum number of samples required at each leaf node\n",
    "    'max_features': ['sqrt'],  # Number of features to consider for the best split\n",
    "    'bootstrap': [True],  # Whether to use bootstrap samples\n",
    "}\n",
    "\n",
    "grid_search = GridSearchCV(estimator=rf, param_grid=param_grid, cv=10, n_jobs=-1)\n",
    "\n",
    "grid_search.fit(X_train, y_train)\n",
    "\n",
    "# Get the best hyperparameters\n",
    "best_params = grid_search.best_params_\n",
    "print(\"Best Hyperparameters:\", best_params)\n",
    "print(f'The best cross validation score/accuracy for RandomForest is: {grid_search.best_score_:.3f}')\n"
   ]
  },
  {
   "cell_type": "code",
   "execution_count": 28,
   "id": "162488dd-0c65-4cce-8e03-2a4e2551dc6e",
   "metadata": {},
   "outputs": [
    {
     "name": "stdout",
     "output_type": "stream",
     "text": [
      "The training accuracy of random forest is: 0.830\n",
      "The testing accuracy of random forest is: 0.774\n"
     ]
    }
   ],
   "source": [
    "rf1 = grid_search.best_estimator_\n",
    "rf1.fit(X_train, y_train)\n",
    "print('The training accuracy of random forest is: %.3f' % grid_search.score(X_train, y_train))\n",
    "print('The testing accuracy of random forest is: %.3f' % grid_search.score(X_test, y_test))"
   ]
  },
  {
   "cell_type": "code",
   "execution_count": 33,
   "id": "b231bb99-70f6-49b9-8d75-2bbfc3b2e6ed",
   "metadata": {},
   "outputs": [
    {
     "name": "stdout",
     "output_type": "stream",
     "text": [
      "       Species  Species_encoded\n",
      "0     Honeybee                1\n",
      "500    Chicken                0\n",
      "1000     Mouse                3\n",
      "1500     Human                2\n",
      "2000       Pig                4\n"
     ]
    }
   ],
   "source": [
    "unique_species = final_df[['Species', 'Species_encoded']].drop_duplicates()\n",
    "print(unique_species)"
   ]
  },
  {
   "cell_type": "code",
   "execution_count": 34,
   "id": "aa0833a6-cc36-4d2c-9a50-623a71a0702d",
   "metadata": {},
   "outputs": [
    {
     "data": {
      "image/png": "[encoded data removed]",
      "text/plain": [
       "<Figure size 250x250 with 1 Axes>"
      ]
     },
     "metadata": {},
     "output_type": "display_data"
    },
    {
     "name": "stdout",
     "output_type": "stream",
     "text": [
      "The precision score for random forest is: 0.784\n",
      "Precision per class 0: 0.731\n",
      "Precision per class 1: 0.980\n",
      "Precision per class 2: 0.583\n",
      "Precision per class 3: 0.869\n",
      "Precision per class 4: 0.757\n"
     ]
    }
   ],
   "source": [
    "rf1.fit(X_train, y_train)\n",
    "y_pred = rf1.predict(X_test)\n",
    "confmat = confusion_matrix(y_true=y_test, y_pred=y_pred)\n",
    "fig, ax = plt.subplots(figsize=(2.5, 2.5))\n",
    "ax.matshow(confmat, cmap=plt.cm.Reds, alpha=0.3)\n",
    "for i in range(confmat.shape[0]):\n",
    "    for j in range(confmat.shape[1]):\n",
    "        ax.text(x=j, y=i, s=confmat[i, j], va='center', ha='center')\n",
    "plt.xlabel('predicted label')\n",
    "plt.ylabel('true label')\n",
    "plt.show()\n",
    "print('The precision score for random forest is: %.3f' % precision_score(y_true=y_test, y_pred=y_pred, average = 'macro'))\n",
    "pre_per_class = precision_score(y_true=y_test, y_pred=y_pred, average = None)\n",
    "for i, precision in enumerate(pre_per_class):\n",
    "    print(f\"Precision per class {i}: {precision:.3f}\")\n",
    "\n",
    "# Rate of Misclassification \n",
    "# Rate of False Positive"
   ]
  },
  {
   "cell_type": "code",
   "execution_count": 196,
   "id": "8937d18c-0381-4ce4-ad68-48c1d6c6ce55",
   "metadata": {},
   "outputs": [
    {
     "name": "stdout",
     "output_type": "stream",
     "text": [
      "Fitting 5 folds for each of 1 candidates, totalling 5 fits\n",
      "[CV] END bootstrap=True, max_depth=20, max_features=sqrt, min_samples_leaf=4, min_samples_split=10, n_estimators=200; total time=   0.6s\n",
      "[CV] END bootstrap=True, max_depth=20, max_features=sqrt, min_samples_leaf=4, min_samples_split=10, n_estimators=200; total time=   0.5s\n",
      "[CV] END bootstrap=True, max_depth=20, max_features=sqrt, min_samples_leaf=4, min_samples_split=10, n_estimators=200; total time=   0.5s\n",
      "[CV] END bootstrap=True, max_depth=20, max_features=sqrt, min_samples_leaf=4, min_samples_split=10, n_estimators=200; total time=   0.5s\n",
      "[CV] END bootstrap=True, max_depth=20, max_features=sqrt, min_samples_leaf=4, min_samples_split=10, n_estimators=200; total time=   0.5s\n",
      "Accuracy Score: 0.764\n",
      "Macro Precision: 0.772701438026165\n",
      "Micro Precision: 0.764\n",
      "Weighted Precision: 0.772701438026165\n"
     ]
    }
   ],
   "source": [
    "X = final_df[['Phylum_encoded', 'Class_encoded', 'Order_encoded', 'Family_encoded', 'GC_content']]\n",
    "Y = final_df['Species_encoded']\n",
    "X_train, X_test, y_train, y_test = train_test_split(X, Y, test_size = 0.3, random_state = 42, stratify = Y)\n",
    "\n",
    "rf = RandomForestClassifier(random_state=42)\n",
    "\n",
    "param_grid = {\n",
    "    'n_estimators': [200],  # Number of trees in the forest\n",
    "    'max_depth': [20],  # Maximum depth of the trees\n",
    "    'min_samples_split': [10],  # Minimum number of samples required to split a node\n",
    "    'min_samples_leaf': [4],    # Minimum number of samples required at each leaf node\n",
    "    'max_features': ['sqrt'],  # Number of features to consider for the best split\n",
    "    'bootstrap': [True],  # Whether to use bootstrap samples\n",
    "}\n",
    "\n",
    "grid_search = GridSearchCV(estimator=rf, param_grid=param_grid, cv=10, n_jobs=1)\n",
    "\n",
    "grid_search.fit(X_train, y_train)\n",
    "best_params = grid_search.best_params_\n",
    "\n",
    "rf1 = RandomForestClassifier(**best_params, random_state=42)\n",
    "\n",
    "rf1.fit(X_train, y_train)\n",
    "y_pred = rf1.predict(X_test)\n",
    "acc = accuracy_score(y_test, y_pred)\n",
    "print(f\"Accuracy Score: {acc}\")\n",
    "precision_macro = precision_score(y_test, y_pred, average='macro')\n",
    "precision_micro = precision_score(y_test, y_pred, average='micro')\n",
    "precision_weighted = precision_score(y_test, y_pred, average='weighted')\n",
    "\n",
    "print(f\"Macro Precision: {precision_macro}\")\n",
    "print(f\"Micro Precision: {precision_micro}\")\n",
    "print(f\"Weighted Precision: {precision_weighted}\")"
   ]
  },
  {
   "cell_type": "code",
   "execution_count": 181,
   "id": "bc9ef88d-3322-4ada-9f60-9f71da24916c",
   "metadata": {},
   "outputs": [
    {
     "name": "stdout",
     "output_type": "stream",
     "text": [
      "Best Features after Backward Selection: ['Class_encoded', 'Family_encoded']\n",
      "Best Accuracy achieved: 0.644\n"
     ]
    }
   ],
   "source": [
    "X = final_df[['Phylum_encoded', 'Class_encoded', 'Order_encoded', 'Family_encoded', 'GC_content']]\n",
    "Y = final_df['Species_encoded']\n",
    "X_train, X_test, y_train, y_test = train_test_split(X, Y, test_size=0.2, random_state=42)\n",
    "\n",
    "rf = RandomForestClassifier(random_state=42)\n",
    "\n",
    "def backward_selection(X_train, X_test, y_train, y_test):\n",
    "    features = X_train.columns.tolist()\n",
    "    best_accuracy = 0\n",
    "    best_features = features\n",
    "\n",
    "    while len(features) > 0:\n",
    "        accuracies = {}\n",
    "        for feature in features:\n",
    "            X_train_subset = X_train[features].drop(columns=[feature])\n",
    "            X_test_subset = X_test[features].drop(columns=[feature])\n",
    "            \n",
    "            rf.fit(X_train_subset, y_train)\n",
    "            y_pred = rf.predict(X_test_subset)\n",
    "            accuracy = accuracy_score(y_test, y_pred)\n",
    "            accuracies[feature] = accuracy\n",
    "        \n",
    "            worst_feature = min(accuracies, key=accuracies.get)\n",
    "            features.remove(worst_feature)\n",
    "            \n",
    "            if accuracies[worst_feature] > best_accuracy:\n",
    "                best_accuracy = accuracies[worst_feature]\n",
    "                best_features = features\n",
    "\n",
    "        return best_features, best_accuracy\n",
    "\n",
    "best_features, best_accuracy = backward_selection(X_train, X_test, y_train, y_test)\n",
    "\n",
    "print(\"Best Features after Backward Selection:\", best_features)\n",
    "print(\"Best Accuracy achieved:\", best_accuracy)"
   ]
  },
  {
   "cell_type": "code",
   "execution_count": 187,
   "id": "a044245e-089a-4696-b9bd-d335c1773c86",
   "metadata": {},
   "outputs": [
    {
     "name": "stdout",
     "output_type": "stream",
     "text": [
      "Accuracy Score for training logistic regression:  0.5475\n",
      "Accuracy Score for testing logistic regression:  0.546\n"
     ]
    }
   ],
   "source": [
    "X = final_df[['Phylum_encoded', 'Class_encoded', 'Order_encoded', 'Family_encoded', 'GC_content']]\n",
    "Y = final_df['Species_encoded']\n",
    "X_train, X_test, y_train, y_test = train_test_split(X, Y, test_size=0.2, random_state=42, stratify = Y)\n",
    "sc = StandardScaler()\n",
    "X_train_std = sc.fit_transform(X_train)\n",
    "X_test_std = sc.transform(X_test)\n",
    "model = LogisticRegression()\n",
    "model.fit(X_train_std, y_train)\n",
    "y_train_pred = model.predict(X_train_std)\n",
    "y_pred = model.predict(X_test_std)\n",
    "acc_train = accuracy_score(y_train_pred, y_train)\n",
    "acc = accuracy_score(y_test, y_pred)\n",
    "print(\"Accuracy Score for training logistic regression: \", acc_train)\n",
    "print(\"Accuracy Score for testing logistic regression: \", acc)"
   ]
  },
  {
   "cell_type": "code",
   "execution_count": 191,
   "id": "d26c6131-252d-4858-8bec-77d5f4cff070",
   "metadata": {},
   "outputs": [
    {
     "name": "stdout",
     "output_type": "stream",
     "text": [
      "Fitting 5 folds for each of 20 candidates, totalling 100 fits\n",
      "Best Parameters: {'C': 0.01, 'penalty': 'l1', 'solver': 'saga'}\n",
      "Best Training Accuracy: 0.5545\n",
      "Test Accuracy: 0.578\n"
     ]
    }
   ],
   "source": [
    "X = final_df[['Phylum_encoded', 'Class_encoded', 'Order_encoded', 'Family_encoded', 'GC_content']]\n",
    "Y = final_df['Species_encoded']\n",
    "X_train, X_test, y_train, y_test = train_test_split(X, Y, test_size=0.2, random_state=42, stratify = Y)\n",
    "sc = StandardScaler()\n",
    "X_train_std = sc.fit_transform(X_train)\n",
    "X_test_std = sc.transform(X_test)\n",
    "\n",
    "param_grid = {\n",
    "    'C': [0.0001, 0.001, 0.01, 0.1, 1.0, 10.0, 100.0, 1000.0],\n",
    "    'max_iter': [100, 500, 1000, 1500]\n",
    "    'penalty': ['l1', 'l2'],\n",
    "    'solver': ['liblinear', 'saga']\n",
    "}\n",
    "\n",
    "# Initialize Logistic Regression\n",
    "model = LogisticRegression()\n",
    "\n",
    "# Grid Search\n",
    "grid_search = GridSearchCV(estimator=model, param_grid=param_grid, \n",
    "                           cv=5, scoring='accuracy', verbose=2, n_jobs=-1)\n",
    "grid_search.fit(X_train_std, y_train)\n",
    "\n",
    "# Results\n",
    "print(\"Best Parameters:\", grid_search.best_params_)\n",
    "print(\"Best Training Accuracy:\", grid_search.best_score_)\n",
    "\n",
    "# Test Evaluation\n",
    "best_model = grid_search.best_estimator_\n",
    "y_pred = best_model.predict(X_test_std)\n",
    "accuracy = accuracy_score(y_test, y_pred)\n",
    "print(f\"Test Accuracy: {accuracy}\")\n"
   ]
  },
  {
   "cell_type": "code",
   "execution_count": 198,
   "id": "d03dc2e9-031e-4ad6-9850-55a4b849a934",
   "metadata": {},
   "outputs": [
    {
     "name": "stdout",
     "output_type": "stream",
     "text": [
      "Accuracy Score for training SVM:  0.6875\n",
      "Accuracy Score for testing SVM:  0.684\n"
     ]
    }
   ],
   "source": [
    "X = final_df[['Phylum_encoded', 'Class_encoded', 'Order_encoded', 'Family_encoded', 'GC_content']]\n",
    "Y = final_df['Species_encoded']\n",
    "X_train, X_test, y_train, y_test = train_test_split(X, Y, test_size=0.2, random_state=42, stratify = Y)\n",
    "sc = StandardScaler()\n",
    "X_train_std = sc.fit_transform(X_train)\n",
    "X_test_std = sc.transform(X_test)\n",
    "model = SVC(kernel='rbf', C=1, gamma='scale', random_state = 42)\n",
    "model.fit(X_train_std, y_train)\n",
    "y_train_pred = model.predict(X_train_std)\n",
    "y_pred = model.predict(X_test_std)\n",
    "acc_train = accuracy_score(y_train_pred, y_train)\n",
    "acc = accuracy_score(y_test, y_pred)\n",
    "print(\"Accuracy Score for training SVM: \", acc_train)\n",
    "print(\"Accuracy Score for testing SVM: \", acc)"
   ]
  },
  {
   "cell_type": "code",
   "execution_count": 203,
   "id": "ca3308d2-edb2-4ca3-9af2-ecab4af5210c",
   "metadata": {},
   "outputs": [
    {
     "name": "stdout",
     "output_type": "stream",
     "text": [
      "Fitting 5 folds for each of 18 candidates, totalling 90 fits\n",
      "Best Parameters from Grid Search: {'C': 10, 'gamma': 'auto', 'kernel': 'rbf'}\n",
      "Accuracy Score SVM: 0.714\n",
      "              precision    recall  f1-score   support\n",
      "\n",
      "           0       0.56      0.71      0.63       100\n",
      "           1       0.96      1.00      0.98       100\n",
      "           2       0.55      0.63      0.59       100\n",
      "           3       0.86      0.85      0.85       100\n",
      "           4       0.68      0.38      0.49       100\n",
      "\n",
      "    accuracy                           0.71       500\n",
      "   macro avg       0.72      0.71      0.71       500\n",
      "weighted avg       0.72      0.71      0.71       500\n",
      "\n"
     ]
    }
   ],
   "source": [
    "X = final_df[['Phylum_encoded', 'Class_encoded', 'Order_encoded', 'Family_encoded', 'GC_content']]\n",
    "Y = final_df['Species_encoded']\n",
    "X_train, X_test, y_train, y_test = train_test_split(X, Y, test_size=0.2, random_state=42, stratify = Y)\n",
    "sc = StandardScaler()\n",
    "X_train_std = sc.fit_transform(X_train)\n",
    "X_test_std = sc.transform(X_test)\n",
    "\n",
    "# Set up the hyperparameter grid\n",
    "param_grid = {\n",
    "    'C': [0.1, 1, 10],\n",
    "    'kernel': ['linear', 'rbf', 'poly'],\n",
    "    'gamma': ['scale', 'auto']  # Only relevant for non-linear kernels (rbf, poly)\n",
    "}\n",
    "\n",
    "# Use GridSearchCV to find the best parameters\n",
    "grid_search = GridSearchCV(SVC(), param_grid, cv=5, n_jobs=-1, verbose=2)\n",
    "grid_search.fit(X_train_std, y_train)\n",
    "\n",
    "# Get the best parameters\n",
    "print(\"Best Parameters from Grid Search:\", grid_search.best_params_)\n",
    "\n",
    "# Use the best estimator to predict\n",
    "best_svm_model = grid_search.best_estimator_\n",
    "y_pred_best = best_svm_model.predict(X_test_std)\n",
    "\n",
    "# Evaluate the best model\n",
    "print(\"Accuracy Score SVM:\", accuracy_score(y_test, y_pred_best))\n",
    "print(classification_report(y_test, y_pred_best))\n"
   ]
  },
  {
   "cell_type": "code",
   "execution_count": 216,
   "id": "46861bf8-17f1-4484-8314-63abdea25962",
   "metadata": {},
   "outputs": [
    {
     "name": "stdout",
     "output_type": "stream",
     "text": [
      "Fitting 5 folds for each of 1 candidates, totalling 5 fits\n",
      "[CV] END bootstrap=True, max_depth=20, max_features=sqrt, min_samples_leaf=4, min_samples_split=10, n_estimators=200; total time=   0.5s\n",
      "[CV] END bootstrap=True, max_depth=20, max_features=sqrt, min_samples_leaf=4, min_samples_split=10, n_estimators=200; total time=   0.4s\n",
      "[CV] END bootstrap=True, max_depth=20, max_features=sqrt, min_samples_leaf=4, min_samples_split=10, n_estimators=200; total time=   0.4s\n",
      "[CV] END bootstrap=True, max_depth=20, max_features=sqrt, min_samples_leaf=4, min_samples_split=10, n_estimators=200; total time=   0.3s\n",
      "[CV] END bootstrap=True, max_depth=20, max_features=sqrt, min_samples_leaf=4, min_samples_split=10, n_estimators=200; total time=   0.4s\n",
      "Accuracy Score training: 0.5895\n",
      "Accuracy Score testing: 0.578\n",
      "\n"
     ]
    },
    {
     "name": "stderr",
     "output_type": "stream",
     "text": [
      "C:\\Users\\ERC\\AppData\\Local\\Programs\\Python\\Python312\\Lib\\site-packages\\sklearn\\base.py:493: UserWarning: X does not have valid feature names, but RandomForestClassifier was fitted with feature names\n",
      "  warnings.warn(\n"
     ]
    },
    {
     "data": {
      "image/png": "[encoded data removed]",
      "text/plain": [
       "<Figure size 640x480 with 1 Axes>"
      ]
     },
     "metadata": {},
     "output_type": "display_data"
    }
   ],
   "source": [
    "X = final_df[['Class_encoded','Family_encoded']]\n",
    "#'Phylum_encoded', 'Class_encoded', 'Order_encoded', 'Family_encoded', 'GC_content']]\n",
    "Y = final_df['Species_encoded']\n",
    "X_train, X_test, y_train, y_test = train_test_split(X, Y, test_size=0.2, random_state=42, stratify = Y)\n",
    "sc = StandardScaler()\n",
    "X_train_std = sc.fit_transform(X_train)\n",
    "X_test_std = sc.transform(X_test)\n",
    "\n",
    "\n",
    "rf = RandomForestClassifier(random_state=42)\n",
    "\n",
    "param_grid = {\n",
    "    'n_estimators': [200],  # Number of trees in the forest\n",
    "    'max_depth': [20],  # Maximum depth of the trees\n",
    "    'min_samples_split': [10],  # Minimum number of samples required to split a node\n",
    "    'min_samples_leaf': [4],    # Minimum number of samples required at each leaf node\n",
    "    'max_features': ['sqrt'],  # Number of features to consider for the best split\n",
    "    'bootstrap': [True],  # Whether to use bootstrap samples\n",
    "}\n",
    "\n",
    "grid_search = GridSearchCV(estimator=rf, param_grid=param_grid, cv=5, verbose=2, n_jobs=1)\n",
    "\n",
    "grid_search.fit(X_train, y_train)\n",
    "best_params = grid_search.best_params_\n",
    "\n",
    "model = RandomForestClassifier(**best_params, random_state=42)\n",
    "\n",
    "\n",
    "model.fit(X_train, y_train)\n",
    "y_train_pred = model.predict(X_train)\n",
    "y_pred = model.predict(X_test)\n",
    "acc_train = accuracy_score(y_train, y_train_pred)\n",
    "acc = accuracy_score(y_test, y_pred)\n",
    "print(f\"Accuracy Score training: {acc_train}\")\n",
    "print(f\"Accuracy Score testing: {acc}\")\n",
    "\n",
    "print()\n",
    "\n",
    "def plot_combined_decision_boundaries(X_train, y_train, X_test, y_test, model, resolution=0.01, title=\"Combined Decision Boundaries\"):\n",
    "    # Create a grid for plotting\n",
    "    x1_min, x1_max = np.min(X_train[:, 0]) - 1, np.max(X_train[:, 0]) + 1\n",
    "    x2_min, x2_max = np.min(X_train[:, 1]) - 1, np.max(X_train[:, 1]) + 1\n",
    "    xx1, xx2 = np.meshgrid(np.arange(x1_min, x1_max, resolution),\n",
    "                           np.arange(x2_min, x2_max, resolution))\n",
    "    \n",
    "    # Predict over the grid\n",
    "    Z = model.predict(np.array([xx1.ravel(), xx2.ravel()]).T)\n",
    "    Z = Z.reshape(xx1.shape)\n",
    "    \n",
    "    # Plot decision surface\n",
    "    plt.contourf(xx1, xx2, Z, alpha=0.4, cmap=plt.cm.Paired)\n",
    "    \n",
    "    # Plot training data\n",
    "    for idx, class_label in enumerate(np.unique(y_train)):\n",
    "        plt.scatter(X_train[y_train == class_label, 0], X_train[y_train == class_label, 1],\n",
    "                    label=f\"Train Class {class_label}\", marker='o', s=50)\n",
    "    \n",
    "    # Plot testing data\n",
    "    for idx, class_label in enumerate(np.unique(y_test)):\n",
    "        plt.scatter(X_test[y_test == class_label, 0], X_test[y_test == class_label, 1],\n",
    "                    label=f\"Test Class {class_label}\", marker='x', s=50)\n",
    "    \n",
    "    plt.title(title)\n",
    "    plt.xlabel(\"Family\")\n",
    "    plt.ylabel(\"Species\")\n",
    "    plt.legend(loc='upper left', bbox_to_anchor=(1.05, 1))\n",
    "    plt.tight_layout()\n",
    "    plt.show()\n",
    "\n",
    "# Plot combined decision boundaries\n",
    "plot_combined_decision_boundaries(X_train_std, y_train, X_test_std, y_test, model,\n",
    "                                  title=\"Combined Decision Boundaries for OvR Logistic Regression\")"
   ]
  },
  {
   "cell_type": "code",
   "execution_count": 223,
   "id": "ef0daf65-dce5-49f3-808f-bf6f18d42e64",
   "metadata": {
    "scrolled": true
   },
   "outputs": [
    {
     "name": "stdout",
     "output_type": "stream",
     "text": [
      "Fitting 5 folds for each of 1 candidates, totalling 5 fits\n",
      "[CV] END bootstrap=True, max_depth=20, max_features=sqrt, min_samples_leaf=4, min_samples_split=10, n_estimators=200; total time=   0.4s\n",
      "[CV] END bootstrap=True, max_depth=20, max_features=sqrt, min_samples_leaf=4, min_samples_split=10, n_estimators=200; total time=   0.3s\n",
      "[CV] END bootstrap=True, max_depth=20, max_features=sqrt, min_samples_leaf=4, min_samples_split=10, n_estimators=200; total time=   0.3s\n",
      "[CV] END bootstrap=True, max_depth=20, max_features=sqrt, min_samples_leaf=4, min_samples_split=10, n_estimators=200; total time=   0.4s\n",
      "[CV] END bootstrap=True, max_depth=20, max_features=sqrt, min_samples_leaf=4, min_samples_split=10, n_estimators=200; total time=   0.3s\n",
      "Accuracy Score training: 0.451\n",
      "Accuracy Score testing: 0.452\n",
      "\n"
     ]
    },
    {
     "name": "stderr",
     "output_type": "stream",
     "text": [
      "C:\\Users\\ERC\\AppData\\Local\\Programs\\Python\\Python312\\Lib\\site-packages\\sklearn\\base.py:493: UserWarning: X does not have valid feature names, but RandomForestClassifier was fitted with feature names\n",
      "  warnings.warn(\n"
     ]
    },
    {
     "data": {
      "image/png": "[encoded data removed]",
      "text/plain": [
       "<Figure size 640x480 with 1 Axes>"
      ]
     },
     "metadata": {},
     "output_type": "display_data"
    }
   ],
   "source": [
    "X = final_df[['Class_encoded']]\n",
    "#'Phylum_encoded', 'Class_encoded', 'Order_encoded', 'Family_encoded', 'GC_content']]\n",
    "Y = final_df['Species_encoded']\n",
    "X_train, X_test, y_train, y_test = train_test_split(X, Y, test_size=0.2, random_state=42, stratify = Y)\n",
    "sc = StandardScaler()\n",
    "X_train_std = sc.fit_transform(X_train)\n",
    "X_test_std = sc.transform(X_test)\n",
    "\n",
    "\n",
    "rf = RandomForestClassifier(random_state=42)\n",
    "\n",
    "param_grid = {\n",
    "    'n_estimators': [200],  # Number of trees in the forest\n",
    "    'max_depth': [20],  # Maximum depth of the trees\n",
    "    'min_samples_split': [10],  # Minimum number of samples required to split a node\n",
    "    'min_samples_leaf': [4],    # Minimum number of samples required at each leaf node\n",
    "    'max_features': ['sqrt'],  # Number of features to consider for the best split\n",
    "    'bootstrap': [True],  # Whether to use bootstrap samples\n",
    "}\n",
    "\n",
    "grid_search = GridSearchCV(estimator=rf, param_grid=param_grid, cv=5, verbose=2, n_jobs=1)\n",
    "\n",
    "grid_search.fit(X_train, y_train)\n",
    "best_params = grid_search.best_params_\n",
    "\n",
    "model = RandomForestClassifier(**best_params, random_state=42)\n",
    "\n",
    "\n",
    "model.fit(X_train, y_train)\n",
    "y_train_pred = model.predict(X_train)\n",
    "y_pred = model.predict(X_test)\n",
    "acc_train = accuracy_score(y_train, y_train_pred)\n",
    "acc = accuracy_score(y_test, y_pred)\n",
    "print(f\"Accuracy Score training: {acc_train}\")\n",
    "print(f\"Accuracy Score testing: {acc}\")\n",
    "\n",
    "print()\n",
    "\n",
    "def plot_combined_decision_boundaries(X_train, y_train, X_test, y_test, model, title=\"Decision Boundaries\"):\n",
    "    # Create a range of values for the feature\n",
    "    x_min, x_max = np.min(X_train[:, 0]) - 1, np.max(X_train[:, 0]) + 1\n",
    "    xx1 = np.linspace(x_min, x_max, 500).reshape(-1, 1)  # Create meshgrid for the feature\n",
    "    \n",
    "    # Predict the class for each value in the grid\n",
    "    Z = model.predict(xx1)  # Predict values for the grid\n",
    "\n",
    "    # Plot the decision boundary as a line plot (since only one feature is used)\n",
    "    plt.plot(xx1, Z, color='blue', label=\"Decision Boundary\")\n",
    "    \n",
    "    # Plot training data\n",
    "    for idx, class_label in enumerate(np.unique(y_train)):\n",
    "        plt.scatter(X_train[y_train == class_label, 0], np.zeros_like(X_train[y_train == class_label, 0]),\n",
    "                    label=f\"Train Class {class_label}\", marker='o', s=50)\n",
    "\n",
    "    # Plot testing data\n",
    "    for idx, class_label in enumerate(np.unique(y_test)):\n",
    "        plt.scatter(X_test[y_test == class_label, 0], np.zeros_like(X_test[y_test == class_label, 0]),\n",
    "                    label=f\"Test Class {class_label}\", marker='x', s=50)\n",
    "\n",
    "    plt.title(title)\n",
    "    plt.xlabel(\"Class\")\n",
    "    plt.ylabel(\"Species\")\n",
    "    plt.legend(loc='upper left', bbox_to_anchor=(1.05, 1))\n",
    "    plt.tight_layout()\n",
    "    plt.show()\n",
    "\n",
    "# Plot decision boundaries for Class_encoded feature\n",
    "plot_combined_decision_boundaries(X_train_std, y_train, X_test_std, y_test, model, title=\"Decision Boundaries for Class_encoded Feature\")"
   ]
  },
  {
   "cell_type": "code",
   "execution_count": 228,
   "id": "7fe463d2-598d-45a2-b96e-b83d87ba8bfc",
   "metadata": {},
   "outputs": [
    {
     "name": "stdout",
     "output_type": "stream",
     "text": [
      "Fitting 5 folds for each of 1 candidates, totalling 5 fits\n",
      "[CV] END bootstrap=True, max_depth=20, max_features=sqrt, min_samples_leaf=4, min_samples_split=10, n_estimators=200; total time=   0.3s\n",
      "[CV] END bootstrap=True, max_depth=20, max_features=sqrt, min_samples_leaf=4, min_samples_split=10, n_estimators=200; total time=   0.4s\n",
      "[CV] END bootstrap=True, max_depth=20, max_features=sqrt, min_samples_leaf=4, min_samples_split=10, n_estimators=200; total time=   0.3s\n",
      "[CV] END bootstrap=True, max_depth=20, max_features=sqrt, min_samples_leaf=4, min_samples_split=10, n_estimators=200; total time=   0.3s\n",
      "[CV] END bootstrap=True, max_depth=20, max_features=sqrt, min_samples_leaf=4, min_samples_split=10, n_estimators=200; total time=   0.3s\n",
      "Accuracy Score training: 0.451\n",
      "Accuracy Score testing: 0.452\n",
      "\n"
     ]
    },
    {
     "name": "stderr",
     "output_type": "stream",
     "text": [
      "C:\\Users\\ERC\\AppData\\Local\\Programs\\Python\\Python312\\Lib\\site-packages\\sklearn\\base.py:493: UserWarning: X does not have valid feature names, but RandomForestClassifier was fitted with feature names\n",
      "  warnings.warn(\n"
     ]
    },
    {
     "data": {
      "image/png": "[encoded data removed]",
      "text/plain": [
       "<Figure size 640x480 with 1 Axes>"
      ]
     },
     "metadata": {},
     "output_type": "display_data"
    }
   ],
   "source": [
    "X = final_df[['Class_encoded']]  # Using only 'Class_encoded' feature\n",
    "Y = final_df['Species_encoded']\n",
    "X_train, X_test, y_train, y_test = train_test_split(X, Y, test_size=0.2, random_state=42, stratify = Y)\n",
    "sc = StandardScaler()\n",
    "X_train_std = sc.fit_transform(X_train)\n",
    "X_test_std = sc.transform(X_test)\n",
    "\n",
    "# Initialize RandomForestClassifier\n",
    "rf = RandomForestClassifier(random_state=42)\n",
    "\n",
    "param_grid = {\n",
    "    'n_estimators': [200],  # Number of trees in the forest\n",
    "    'max_depth': [20],  # Maximum depth of the trees\n",
    "    'min_samples_split': [10],  # Minimum number of samples required to split a node\n",
    "    'min_samples_leaf': [4],    # Minimum number of samples required at each leaf node\n",
    "    'max_features': ['sqrt'],  # Number of features to consider for the best split\n",
    "    'bootstrap': [True],  # Whether to use bootstrap samples\n",
    "}\n",
    "\n",
    "grid_search = GridSearchCV(estimator=rf, param_grid=param_grid, cv=5, verbose=2, n_jobs=1)\n",
    "\n",
    "grid_search.fit(X_train, y_train)\n",
    "best_params = grid_search.best_params_\n",
    "\n",
    "model = RandomForestClassifier(**best_params, random_state=42)\n",
    "\n",
    "# Fit the model\n",
    "model.fit(X_train, y_train)\n",
    "y_train_pred = model.predict(X_train)\n",
    "y_pred = model.predict(X_test)\n",
    "acc_train = accuracy_score(y_train, y_train_pred)\n",
    "acc = accuracy_score(y_test, y_pred)\n",
    "print(f\"Accuracy Score training: {acc_train}\")\n",
    "print(f\"Accuracy Score testing: {acc}\")\n",
    "\n",
    "print()\n",
    "\n",
    "# Plot decision boundaries using only one feature for one class (train and test)\n",
    "def plot_combined_decision_boundaries(X_train, y_train, X_test, y_test, model, train_class, test_class, title=\"Decision Boundaries\"):\n",
    "    # Create a range of values for the feature\n",
    "    x_min, x_max = np.min(X_train[:, 0]) - 1, np.max(X_train[:, 0]) + 1\n",
    "    xx1 = np.linspace(x_min, x_max, 500).reshape(-1, 1)  # Create meshgrid for the feature\n",
    "    \n",
    "    # Predict the class for each value in the grid\n",
    "    Z = model.predict(xx1)  # Predict values for the grid\n",
    "\n",
    "    # Plot the decision boundary as a line plot (since only one feature is used)\n",
    "    plt.plot(xx1, Z, color='blue', label=\"Decision Boundary\")\n",
    "    \n",
    "    # Filter data for the specific train class\n",
    "    X_train_class = X_train[y_train == train_class]\n",
    "    y_train_class = y_train[y_train == train_class]\n",
    "    \n",
    "    # Filter data for the specific test class\n",
    "    X_test_class = X_test[y_test == test_class]\n",
    "    y_test_class = y_test[y_test == test_class]\n",
    "\n",
    "    # Plot training data for the selected class\n",
    "    plt.scatter(X_train_class, np.zeros_like(X_train_class), label=f\"Train Class {train_class}\", marker='o', s=50)\n",
    "\n",
    "    # Plot testing data for the selected class\n",
    "    plt.scatter(X_test_class, np.zeros_like(X_test_class), label=f\"Test Class {test_class}\", marker='x', s=50)\n",
    "\n",
    "    plt.title(title)\n",
    "    plt.xlabel(\"Class\")\n",
    "    plt.ylabel(\"Species\")\n",
    "    plt.legend(loc='upper left', bbox_to_anchor=(1.05, 1))\n",
    "    plt.tight_layout()\n",
    "    plt.show()\n",
    "\n",
    "# Choose the train and test classes you want to plot (for example, class 0 for both)\n",
    "train_class = 4\n",
    "test_class = 4\n",
    "\n",
    "# Plot decision boundaries for a single class (train and test)\n",
    "plot_combined_decision_boundaries(X_train_std, y_train, X_test_std, y_test, model, train_class, test_class, title=\"Decision Boundaries for Class 0\")"
   ]
  },
  {
   "cell_type": "code",
   "execution_count": null,
   "id": "ab420268-b815-404e-a10c-54ca546c9f69",
   "metadata": {},
   "outputs": [],
   "source": []
  }
 ],
 "metadata": {
  "kernelspec": {
   "display_name": "Python 3 (ipykernel)",
   "language": "python",
   "name": "python3"
  },
  "language_info": {
   "codemirror_mode": {
    "name": "ipython",
    "version": 3
   },
   "file_extension": ".py",
   "mimetype": "text/x-python",
   "name": "python",
   "nbconvert_exporter": "python",
   "pygments_lexer": "ipython3",
   "version": "3.12.6"
  }
 },
 "nbformat": 4,
 "nbformat_minor": 5
}

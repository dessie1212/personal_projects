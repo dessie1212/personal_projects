{
 "cells": [
  {
   "cell_type": "code",
   "execution_count": 2,
   "id": "890157db-59f0-4301-b0d4-46800faf2104",
   "metadata": {},
   "outputs": [],
   "source": [
    "from sklearn.datasets import fetch_lfw_people\n",
    "import pandas as pd\n",
    "from time import time\n",
    "import matplotlib.pyplot as plt\n",
    "import numpy as np\n",
    "from sklearn.model_selection import train_test_split, GridSearchCV\n",
    "from sklearn.preprocessing import OneHotEncoder, StandardScaler, LabelEncoder\n",
    "from sklearn.metrics import accuracy_score, precision_score, classification_report\n",
    "from sklearn.svm import SVC\n",
    "import matplotlib.pyplot as plt\n",
    "from sklearn.linear_model import LogisticRegression, Perceptron\n",
    "from sklearn.decomposition import PCA\n",
    "from sklearn.pipeline import Pipeline\n",
    "from sklearn.neighbors import KNeighborsClassifier\n",
    "from sklearn.metrics import confusion_matrix"
   ]
  },
  {
   "cell_type": "code",
   "execution_count": 50,
   "id": "84098060-6844-4f47-8bdd-cb65dff8f37a",
   "metadata": {},
   "outputs": [
    {
     "data": {
      "text/plain": [
       "{'data': array([[0.9973857 , 0.99607843, 0.9921568 , ..., 0.38169935, 0.38823533,\n",
       "         0.3803922 ],\n",
       "        [0.14771242, 0.19738562, 0.1751634 , ..., 0.45751634, 0.44444445,\n",
       "         0.53594774],\n",
       "        [0.34379086, 0.39477125, 0.49150327, ..., 0.709804  , 0.72156864,\n",
       "         0.7163399 ],\n",
       "        ...,\n",
       "        [0.3633987 , 0.3372549 , 0.30718955, ..., 0.19738562, 0.22091503,\n",
       "         0.19346406],\n",
       "        [0.19346406, 0.24705882, 0.34248367, ..., 0.7346406 , 0.6640523 ,\n",
       "         0.6117647 ],\n",
       "        [0.11633987, 0.10196079, 0.1267974 , ..., 0.13333334, 0.13725491,\n",
       "         0.2535948 ]], dtype=float32),\n",
       " 'images': array([[[0.9973857 , 0.99607843, 0.9921568 , ..., 0.29803923,\n",
       "          0.24836601, 0.20653595],\n",
       "         [0.9973857 , 0.9921569 , 0.9908497 , ..., 0.30588236,\n",
       "          0.2535948 , 0.21568628],\n",
       "         [0.96078426, 0.93071896, 0.8679738 , ..., 0.2875817 ,\n",
       "          0.24183007, 0.21568628],\n",
       "         ...,\n",
       "         [0.34509805, 0.26143792, 0.17385621, ..., 0.4248366 ,\n",
       "          0.40261438, 0.39084968],\n",
       "         [0.30980393, 0.23398693, 0.17124183, ..., 0.39869282,\n",
       "          0.4013072 , 0.3764706 ],\n",
       "         [0.28366014, 0.2248366 , 0.18039216, ..., 0.38169935,\n",
       "          0.38823533, 0.3803922 ]],\n",
       " \n",
       "        [[0.14771242, 0.19738562, 0.1751634 , ..., 0.24183007,\n",
       "          0.2       , 0.14509805],\n",
       "         [0.18039216, 0.24836601, 0.24575163, ..., 0.21437909,\n",
       "          0.21960784, 0.1751634 ],\n",
       "         [0.21045752, 0.303268  , 0.33594772, ..., 0.2653595 ,\n",
       "          0.18431373, 0.16993465],\n",
       "         ...,\n",
       "         [0.2875817 , 0.29803923, 0.29673204, ..., 0.503268  ,\n",
       "          0.46797386, 0.4535948 ],\n",
       "         [0.29411766, 0.29803923, 0.303268  , ..., 0.4928105 ,\n",
       "          0.4496732 , 0.45359477],\n",
       "         [0.30457518, 0.29673204, 0.29673204, ..., 0.45751634,\n",
       "          0.44444445, 0.53594774]],\n",
       " \n",
       "        [[0.34379086, 0.39477125, 0.49150327, ..., 0.5803922 ,\n",
       "          0.58954257, 0.58300656],\n",
       "         [0.38169935, 0.5071896 , 0.57124186, ..., 0.6261439 ,\n",
       "          0.5908497 , 0.5751634 ],\n",
       "         [0.48366013, 0.5686275 , 0.579085  , ..., 0.64183015,\n",
       "          0.59738564, 0.5751634 ],\n",
       "         ...,\n",
       "         [0.29673204, 0.2875817 , 0.28496733, ..., 0.46013072,\n",
       "          0.6732027 , 0.70326805],\n",
       "         [0.28627452, 0.26666668, 0.27058825, ..., 0.5908497 ,\n",
       "          0.7267974 , 0.7098039 ],\n",
       "         [0.3150327 , 0.25490198, 0.26013073, ..., 0.709804  ,\n",
       "          0.72156864, 0.7163399 ]],\n",
       " \n",
       "        ...,\n",
       " \n",
       "        [[0.3633987 , 0.3372549 , 0.30718955, ..., 0.1633987 ,\n",
       "          0.1633987 , 0.18562092],\n",
       "         [0.35947713, 0.3124183 , 0.32026145, ..., 0.16993465,\n",
       "          0.16209151, 0.17124183],\n",
       "         [0.30457518, 0.26666668, 0.38039216, ..., 0.18562092,\n",
       "          0.17254902, 0.16993465],\n",
       "         ...,\n",
       "         [0.38169935, 0.36601308, 0.35947713, ..., 0.2901961 ,\n",
       "          0.34509805, 0.4       ],\n",
       "         [0.36078432, 0.35816994, 0.37254903, ..., 0.20261438,\n",
       "          0.25490198, 0.27450982],\n",
       "         [0.32156864, 0.3281046 , 0.34117648, ..., 0.19738562,\n",
       "          0.22091503, 0.19346406]],\n",
       " \n",
       "        [[0.19346406, 0.24705882, 0.34248367, ..., 0.5882353 ,\n",
       "          0.5947712 , 0.5647059 ],\n",
       "         [0.22875817, 0.32287583, 0.39084968, ..., 0.58300656,\n",
       "          0.56078434, 0.55947715],\n",
       "         [0.23006536, 0.351634  , 0.37124184, ..., 0.5882353 ,\n",
       "          0.53464055, 0.53464055],\n",
       "         ...,\n",
       "         [0.23660131, 0.23921569, 0.24313726, ..., 0.5542484 ,\n",
       "          0.63137263, 0.6104575 ],\n",
       "         [0.24052288, 0.24183007, 0.24575163, ..., 0.71111107,\n",
       "          0.6535948 , 0.6169935 ],\n",
       "         [0.24183007, 0.24052288, 0.24444444, ..., 0.7346406 ,\n",
       "          0.6640523 , 0.6117647 ]],\n",
       " \n",
       "        [[0.11633987, 0.10196079, 0.1267974 , ..., 0.34248367,\n",
       "          0.20130719, 0.17908497],\n",
       "         [0.12156863, 0.12418301, 0.14379086, ..., 0.41045752,\n",
       "          0.20522876, 0.15816994],\n",
       "         [0.13071896, 0.13202615, 0.14901961, ..., 0.4888889 ,\n",
       "          0.26928106, 0.19477125],\n",
       "         ...,\n",
       "         [0.18169935, 0.17254902, 0.17254902, ..., 0.09281046,\n",
       "          0.07058824, 0.13986929],\n",
       "         [0.16470589, 0.1633987 , 0.1764706 , ..., 0.0875817 ,\n",
       "          0.10326798, 0.1764706 ],\n",
       "         [0.17908497, 0.19477125, 0.20392157, ..., 0.13333334,\n",
       "          0.13725491, 0.2535948 ]]], dtype=float32),\n",
       " 'target': array([5, 6, 3, ..., 5, 3, 5], dtype=int64),\n",
       " 'target_names': array(['Ariel Sharon', 'Colin Powell', 'Donald Rumsfeld', 'George W Bush',\n",
       "        'Gerhard Schroeder', 'Hugo Chavez', 'Tony Blair'], dtype='<U17'),\n",
       " 'DESCR': \".. _labeled_faces_in_the_wild_dataset:\\n\\nThe Labeled Faces in the Wild face recognition dataset\\n------------------------------------------------------\\n\\nThis dataset is a collection of JPEG pictures of famous people collected\\nover the internet, all details are available on the official website:\\n\\nhttp://vis-www.cs.umass.edu/lfw/\\n\\nEach picture is centered on a single face. The typical task is called\\nFace Verification: given a pair of two pictures, a binary classifier\\nmust predict whether the two images are from the same person.\\n\\nAn alternative task, Face Recognition or Face Identification is:\\ngiven the picture of the face of an unknown person, identify the name\\nof the person by referring to a gallery of previously seen pictures of\\nidentified persons.\\n\\nBoth Face Verification and Face Recognition are tasks that are typically\\nperformed on the output of a model trained to perform Face Detection. The\\nmost popular model for Face Detection is called Viola-Jones and is\\nimplemented in the OpenCV library. The LFW faces were extracted by this\\nface detector from various online websites.\\n\\n**Data Set Characteristics:**\\n\\n=================   =======================\\nClasses                                5749\\nSamples total                         13233\\nDimensionality                         5828\\nFeatures            real, between 0 and 255\\n=================   =======================\\n\\n.. dropdown:: Usage\\n\\n  ``scikit-learn`` provides two loaders that will automatically download,\\n  cache, parse the metadata files, decode the jpeg and convert the\\n  interesting slices into memmapped numpy arrays. This dataset size is more\\n  than 200 MB. The first load typically takes more than a couple of minutes\\n  to fully decode the relevant part of the JPEG files into numpy arrays. If\\n  the dataset has  been loaded once, the following times the loading times\\n  less than 200ms by using a memmapped version memoized on the disk in the\\n  ``~/scikit_learn_data/lfw_home/`` folder using ``joblib``.\\n\\n  The first loader is used for the Face Identification task: a multi-class\\n  classification task (hence supervised learning)::\\n\\n    >>> from sklearn.datasets import fetch_lfw_people\\n    >>> lfw_people = fetch_lfw_people(min_faces_per_person=70, resize=0.4)\\n\\n    >>> for name in lfw_people.target_names:\\n    ...     print(name)\\n    ...\\n    Ariel Sharon\\n    Colin Powell\\n    Donald Rumsfeld\\n    George W Bush\\n    Gerhard Schroeder\\n    Hugo Chavez\\n    Tony Blair\\n\\n  The default slice is a rectangular shape around the face, removing\\n  most of the background::\\n\\n    >>> lfw_people.data.dtype\\n    dtype('float32')\\n\\n    >>> lfw_people.data.shape\\n    (1288, 1850)\\n\\n    >>> lfw_people.images.shape\\n    (1288, 50, 37)\\n\\n  Each of the ``1140`` faces is assigned to a single person id in the ``target``\\n  array::\\n\\n    >>> lfw_people.target.shape\\n    (1288,)\\n\\n    >>> list(lfw_people.target[:10])\\n    [5, 6, 3, 1, 0, 1, 3, 4, 3, 0]\\n\\n  The second loader is typically used for the face verification task: each sample\\n  is a pair of two picture belonging or not to the same person::\\n\\n    >>> from sklearn.datasets import fetch_lfw_pairs\\n    >>> lfw_pairs_train = fetch_lfw_pairs(subset='train')\\n\\n    >>> list(lfw_pairs_train.target_names)\\n    ['Different persons', 'Same person']\\n\\n    >>> lfw_pairs_train.pairs.shape\\n    (2200, 2, 62, 47)\\n\\n    >>> lfw_pairs_train.data.shape\\n    (2200, 5828)\\n\\n    >>> lfw_pairs_train.target.shape\\n    (2200,)\\n\\n  Both for the :func:`sklearn.datasets.fetch_lfw_people` and\\n  :func:`sklearn.datasets.fetch_lfw_pairs` function it is\\n  possible to get an additional dimension with the RGB color channels by\\n  passing ``color=True``, in that case the shape will be\\n  ``(2200, 2, 62, 47, 3)``.\\n\\n  The :func:`sklearn.datasets.fetch_lfw_pairs` datasets is subdivided into\\n  3 subsets: the development ``train`` set, the development ``test`` set and\\n  an evaluation ``10_folds`` set meant to compute performance metrics using a\\n  10-folds cross validation scheme.\\n\\n.. rubric:: References\\n\\n* `Labeled Faces in the Wild: A Database for Studying Face Recognition\\n  in Unconstrained Environments.\\n  <http://vis-www.cs.umass.edu/lfw/lfw.pdf>`_\\n  Gary B. Huang, Manu Ramesh, Tamara Berg, and Erik Learned-Miller.\\n  University of Massachusetts, Amherst, Technical Report 07-49, October, 2007.\\n\\n\\n.. rubric:: Examples\\n\\n* :ref:`sphx_glr_auto_examples_applications_plot_face_recognition.py`\\n\"}"
      ]
     },
     "metadata": {},
     "output_type": "display_data"
    }
   ],
   "source": [
    "df = fetch_lfw_people(min_faces_per_person=70, resize=0.4)\n",
    "display(df)"
   ]
  },
  {
   "cell_type": "code",
   "execution_count": 51,
   "id": "be3e3485-20f2-485d-8ab0-4585fa80d7f8",
   "metadata": {},
   "outputs": [
    {
     "name": "stdout",
     "output_type": "stream",
     "text": [
      "(1288, 50, 37) (1288,) (1288, 1850) (7,)\n"
     ]
    }
   ],
   "source": [
    "I = df['images'].shape\n",
    "T = df['target'].shape\n",
    "D = df['data'].shape\n",
    "TN = df['target_names'].shape\n",
    "print(I, T, D, TN)\n",
    "#1288 number of total samples\n",
    "#1850 is flattened image (height * width) each image has height and width"
   ]
  },
  {
   "cell_type": "code",
   "execution_count": 52,
   "id": "303ee6df-fad9-42a9-9af8-a6fb672db156",
   "metadata": {},
   "outputs": [
    {
     "name": "stdout",
     "output_type": "stream",
     "text": [
      "Ariel Sharon\n",
      "Colin Powell\n",
      "Donald Rumsfeld\n",
      "George W Bush\n",
      "Gerhard Schroeder\n",
      "Hugo Chavez\n",
      "Tony Blair\n"
     ]
    }
   ],
   "source": [
    "for name in df.target_names:\n",
    "    print(name)"
   ]
  },
  {
   "cell_type": "code",
   "execution_count": 53,
   "id": "565224a4-d32b-42bb-972a-5760d38e6655",
   "metadata": {},
   "outputs": [
    {
     "data": {
      "text/plain": [
       "1850"
      ]
     },
     "execution_count": 53,
     "metadata": {},
     "output_type": "execute_result"
    }
   ],
   "source": [
    "df = fetch_lfw_people(min_faces_per_person=70, resize=0.4)\n",
    "data = df.data\n",
    "data.shape[1]"
   ]
  },
  {
   "cell_type": "code",
   "execution_count": 165,
   "id": "824b829b-ebbf-4181-a329-f937cce7e305",
   "metadata": {},
   "outputs": [
    {
     "name": "stdout",
     "output_type": "stream",
     "text": [
      "False\n"
     ]
    }
   ],
   "source": [
    "df = fetch_lfw_people(min_faces_per_person=70, resize=0.4)\n",
    "data = df.images\n",
    "has_null = np.isnan(data).any()\n",
    "print(has_null)"
   ]
  },
  {
   "cell_type": "code",
   "execution_count": 164,
   "id": "66f95e54-42f2-4c4b-8881-95465dc750eb",
   "metadata": {},
   "outputs": [
    {
     "name": "stdout",
     "output_type": "stream",
     "text": [
      "False\n"
     ]
    }
   ],
   "source": [
    "df = fetch_lfw_people(min_faces_per_person=70, resize=0.4)\n",
    "data = df.target\n",
    "has_null = np.isnan(data).any()\n",
    "print(has_null)"
   ]
  },
  {
   "cell_type": "code",
   "execution_count": 163,
   "id": "83abdf1f-c1cd-4dab-b1f3-21b228022032",
   "metadata": {},
   "outputs": [
    {
     "name": "stdout",
     "output_type": "stream",
     "text": [
      "False\n"
     ]
    }
   ],
   "source": [
    "df = fetch_lfw_people(min_faces_per_person=70, resize=0.4)\n",
    "data = df.data\n",
    "has_null = np.isnan(data).any()\n",
    "print(has_null)"
   ]
  },
  {
   "cell_type": "code",
   "execution_count": 174,
   "id": "42b51264-126e-4054-a4d7-505b765fbb3a",
   "metadata": {},
   "outputs": [
    {
     "name": "stdout",
     "output_type": "stream",
     "text": [
      "1850\n"
     ]
    }
   ],
   "source": [
    "print(df['data'].shape[1])"
   ]
  },
  {
   "cell_type": "code",
   "execution_count": 249,
   "id": "aab99ab0-e4f2-470d-8a8d-4fcc18d14428",
   "metadata": {},
   "outputs": [
    {
     "name": "stdout",
     "output_type": "stream",
     "text": [
      "target\n",
      "3    530\n",
      "1    236\n",
      "6    144\n",
      "2    121\n",
      "4    109\n",
      "0     77\n",
      "5     71\n",
      "Name: count, dtype: int64\n"
     ]
    }
   ],
   "source": [
    "print(df3['target'].value_counts())"
   ]
  },
  {
   "cell_type": "code",
   "execution_count": 78,
   "id": "dc8326cb-7bcb-4f5a-a570-67bee3ff5778",
   "metadata": {},
   "outputs": [
    {
     "name": "stdout",
     "output_type": "stream",
     "text": [
      "Verify the shape of data is similar to original data in the dataset: (1288, 1850)\n",
      "Verify the shape of the target is similar to original target in the dataset: (1288,)\n",
      "The shape of df3 after adding target column to the dataframe: (1288, 1851)\n",
      "\n"
     ]
    },
    {
     "name": "stderr",
     "output_type": "stream",
     "text": [
      "C:\\Users\\ERC\\AppData\\Local\\Temp\\ipykernel_16916\\624255022.py:9: DeprecationWarning: DataFrameGroupBy.apply operated on the grouping columns. This behavior is deprecated, and in a future version of pandas the grouping columns will be excluded from the operation. Either pass `include_groups=False` to exclude the groupings or explicitly select the grouping columns after groupby to silence this warning.\n",
      "  sampled_df = df3.groupby('target', group_keys=False).apply(lambda x: x.sample(n=min(len(x), 70), random_state=42))\n"
     ]
    },
    {
     "data": {
      "text/plain": [
       "array([[0.58562094, 0.54901963, 0.46797386, ..., 0.26143792, 0.4130719 ,\n",
       "        0.54509807],\n",
       "       [0.46928108, 0.62222224, 0.7294118 , ..., 0.67843145, 0.72287583,\n",
       "        0.7568627 ],\n",
       "       [0.5908497 , 0.5620915 , 0.5254902 , ..., 0.44444445, 0.18692811,\n",
       "        0.13986929],\n",
       "       ...,\n",
       "       [0.22745098, 0.2627451 , 0.33202615, ..., 0.8653595 , 0.6993465 ,\n",
       "        0.20392157],\n",
       "       [0.27058825, 0.24705882, 0.33071896, ..., 0.551634  , 0.48366013,\n",
       "        0.44836602],\n",
       "       [0.6640523 , 0.5882353 , 0.50065356, ..., 0.9895425 , 0.9620915 ,\n",
       "        0.56993467]], dtype=float32)"
      ]
     },
     "metadata": {},
     "output_type": "display_data"
    },
    {
     "name": "stdout",
     "output_type": "stream",
     "text": [
      "\n"
     ]
    },
    {
     "data": {
      "text/plain": [
       "array([0, 0, 0, 0, 0, 0, 0, 0, 0, 0, 0, 0, 0, 0, 0, 0, 0, 0, 0, 0, 0, 0,\n",
       "       0, 0, 0, 0, 0, 0, 0, 0, 0, 0, 0, 0, 0, 0, 0, 0, 0, 0, 0, 0, 0, 0,\n",
       "       0, 0, 0, 0, 0, 0, 0, 0, 0, 0, 0, 0, 0, 0, 0, 0, 0, 0, 0, 0, 0, 0,\n",
       "       0, 0, 0, 0, 1, 1, 1, 1, 1, 1, 1, 1, 1, 1, 1, 1, 1, 1, 1, 1, 1, 1,\n",
       "       1, 1, 1, 1, 1, 1, 1, 1, 1, 1, 1, 1, 1, 1, 1, 1, 1, 1, 1, 1, 1, 1,\n",
       "       1, 1, 1, 1, 1, 1, 1, 1, 1, 1, 1, 1, 1, 1, 1, 1, 1, 1, 1, 1, 1, 1,\n",
       "       1, 1, 1, 1, 1, 1, 1, 1, 2, 2, 2, 2, 2, 2, 2, 2, 2, 2, 2, 2, 2, 2,\n",
       "       2, 2, 2, 2, 2, 2, 2, 2, 2, 2, 2, 2, 2, 2, 2, 2, 2, 2, 2, 2, 2, 2,\n",
       "       2, 2, 2, 2, 2, 2, 2, 2, 2, 2, 2, 2, 2, 2, 2, 2, 2, 2, 2, 2, 2, 2,\n",
       "       2, 2, 2, 2, 2, 2, 2, 2, 2, 2, 2, 2, 3, 3, 3, 3, 3, 3, 3, 3, 3, 3,\n",
       "       3, 3, 3, 3, 3, 3, 3, 3, 3, 3, 3, 3, 3, 3, 3, 3, 3, 3, 3, 3, 3, 3,\n",
       "       3, 3, 3, 3, 3, 3, 3, 3, 3, 3, 3, 3, 3, 3, 3, 3, 3, 3, 3, 3, 3, 3,\n",
       "       3, 3, 3, 3, 3, 3, 3, 3, 3, 3, 3, 3, 3, 3, 3, 3, 4, 4, 4, 4, 4, 4,\n",
       "       4, 4, 4, 4, 4, 4, 4, 4, 4, 4, 4, 4, 4, 4, 4, 4, 4, 4, 4, 4, 4, 4,\n",
       "       4, 4, 4, 4, 4, 4, 4, 4, 4, 4, 4, 4, 4, 4, 4, 4, 4, 4, 4, 4, 4, 4,\n",
       "       4, 4, 4, 4, 4, 4, 4, 4, 4, 4, 4, 4, 4, 4, 4, 4, 4, 4, 4, 4, 5, 5,\n",
       "       5, 5, 5, 5, 5, 5, 5, 5, 5, 5, 5, 5, 5, 5, 5, 5, 5, 5, 5, 5, 5, 5,\n",
       "       5, 5, 5, 5, 5, 5, 5, 5, 5, 5, 5, 5, 5, 5, 5, 5, 5, 5, 5, 5, 5, 5,\n",
       "       5, 5, 5, 5, 5, 5, 5, 5, 5, 5, 5, 5, 5, 5, 5, 5, 5, 5, 5, 5, 5, 5,\n",
       "       5, 5, 6, 6, 6, 6, 6, 6, 6, 6, 6, 6, 6, 6, 6, 6, 6, 6, 6, 6, 6, 6,\n",
       "       6, 6, 6, 6, 6, 6, 6, 6, 6, 6, 6, 6, 6, 6, 6, 6, 6, 6, 6, 6, 6, 6,\n",
       "       6, 6, 6, 6, 6, 6, 6, 6, 6, 6, 6, 6, 6, 6, 6, 6, 6, 6, 6, 6, 6, 6,\n",
       "       6, 6, 6, 6, 6, 6], dtype=int64)"
      ]
     },
     "metadata": {},
     "output_type": "display_data"
    },
    {
     "name": "stdout",
     "output_type": "stream",
     "text": [
      "\n",
      "After sampling, the data should be 490 total rows: 490\n",
      "\n",
      "The number of samples for class/target 0 is: 70\n",
      "\n",
      "After sampling, the target should be 490 total rows: 490\n",
      "\n",
      "The dataframe after sampling:           0         1         2         3         4         5         6  \\\n",
      "0  0.997386  0.996078  0.992157  0.966013  0.758170  0.569935  0.700654   \n",
      "1  0.147712  0.197386  0.175163  0.192157  0.385621  0.473203  0.543791   \n",
      "2  0.343791  0.394771  0.491503  0.555556  0.597386  0.611765  0.606536   \n",
      "3  0.047059  0.016993  0.023529  0.016993  0.031373  0.230065  0.677124   \n",
      "4  0.471895  0.458824  0.486275  0.499346  0.494118  0.513726  0.545098   \n",
      "\n",
      "          7         8         9  ...      1841      1842      1843      1844  \\\n",
      "0  0.794771  0.784314  0.767320  ...  0.426144  0.422222  0.415686  0.401307   \n",
      "1  0.615686  0.671895  0.694118  ...  0.239216  0.296732  0.307190  0.325490   \n",
      "2  0.626144  0.640523  0.652288  ...  0.430065  0.379085  0.410458  0.498039   \n",
      "3  0.667974  0.641830  0.400000  ...  0.749020  0.903268  0.915033  0.918954   \n",
      "4  0.543791  0.560784  0.581699  ...  0.062745  0.019608  0.018301  0.018301   \n",
      "\n",
      "       1845      1846      1847      1848      1849  target  \n",
      "0  0.393464  0.390850  0.381699  0.388235  0.380392       5  \n",
      "1  0.410458  0.487582  0.457516  0.444444  0.535948       6  \n",
      "2  0.448366  0.481046  0.709804  0.721569  0.716340       3  \n",
      "3  0.925490  0.513725  0.065359  0.142484  0.201307       1  \n",
      "4  0.039216  0.036601  0.078431  0.250980  0.278431       0  \n",
      "\n",
      "[5 rows x 1851 columns]\n"
     ]
    }
   ],
   "source": [
    "df2 = fetch_lfw_people(min_faces_per_person=70, resize=0.4)\n",
    "data = df2['data']\n",
    "target = df2['target']\n",
    "print(f\"Verify the shape of data is similar to original data in the dataset: {data.shape}\")\n",
    "print(f\"Verify the shape of the target is similar to original target in the dataset: {target.shape}\")\n",
    "df3 = pd.DataFrame(data)\n",
    "df3['target'] = target\n",
    "print(f\"The shape of df3 after adding target column to the dataframe: {df3.shape}\")\n",
    "sampled_df = df3.groupby('target', group_keys=False).apply(lambda x: x.sample(n=min(len(x), 70), random_state=42))\n",
    "sampled_df = sampled_df.reset_index(drop=True)\n",
    "sampled_data = sampled_df.iloc[:, :-1].values  \n",
    "sampled_target = sampled_df['target'].values\n",
    "print()\n",
    "display(sampled_data)\n",
    "print()\n",
    "display(sampled_target)\n",
    "print()\n",
    "size = sampled_data.shape[0]\n",
    "print(f'After sampling, the data should be 490 total rows: {size}')\n",
    "print()\n",
    "count = np.count_nonzero(sampled_target == 0)\n",
    "print(f'The number of samples for class/target 0 is: {count}')\n",
    "print()\n",
    "size2 = sampled_target.shape[0]\n",
    "print(f'After sampling, the target should be 490 total rows: {size2}')\n",
    "print()\n",
    "print('The dataframe after sampling:', df3.head())\n"
   ]
  },
  {
   "cell_type": "code",
   "execution_count": 79,
   "id": "0070ed96-74f9-4177-8f53-7a83bf724f87",
   "metadata": {},
   "outputs": [
    {
     "name": "stdout",
     "output_type": "stream",
     "text": [
      "done in 20.718s\n",
      "Projecting the input data on the eigenfaces orthonormal basis\n",
      "done in 0.012s\n"
     ]
    }
   ],
   "source": [
    "n_samples, h, w = df2.images.shape\n",
    "X = sampled_data\n",
    "Y = sampled_target\n",
    "X_train, X_test, y_train, y_test = train_test_split(X, Y, test_size = 0.3, random_state = 42, stratify = Y)\n",
    "sc = StandardScaler()\n",
    "X_train_std = sc.fit_transform(X_train)\n",
    "X_test_std = sc.transform(X_test)\n",
    "\n",
    "n_components = 150\n",
    "t0 = time()\n",
    "pca = PCA(n_components=n_components, svd_solver=\"randomized\", whiten=True).fit(X_train_std)\n",
    "print(\"done in %0.3fs\" % (time() - t0))\n",
    "\n",
    "eigenfaces = pca.components_.reshape((n_components, h, w))\n",
    "\n",
    "print(\"Projecting the input data on the eigenfaces orthonormal basis\")\n",
    "t0 = time()\n",
    "X_train_pca = pca.transform(X_train_std)\n",
    "X_test_pca = pca.transform(X_test_std)\n",
    "print(\"done in %0.3fs\" % (time() - t0))\n"
   ]
  },
  {
   "cell_type": "code",
   "execution_count": 80,
   "id": "b11ce2db-f1e7-4823-a5d3-e402e6c6f486",
   "metadata": {},
   "outputs": [
    {
     "data": {
      "text/plain": [
       "array([[-1.2079053 ,  1.1613969 ,  0.48205134, ...,  0.9339066 ,\n",
       "        -0.65229654,  1.9827678 ],\n",
       "       [-0.64837587, -1.1380725 , -0.02074076, ...,  0.66302276,\n",
       "        -0.664095  , -0.36525992],\n",
       "       [-0.9888585 ,  1.2370545 ,  1.717169  , ...,  1.5000601 ,\n",
       "        -0.9950914 , -1.4775324 ],\n",
       "       ...,\n",
       "       [-0.04979428,  0.7313271 ,  0.00879961, ..., -1.8773155 ,\n",
       "         0.10211594, -0.10579868],\n",
       "       [-0.05324984,  0.6006853 ,  0.36193708, ..., -0.80656785,\n",
       "        -0.79665387, -0.7437518 ],\n",
       "       [-1.0197583 , -0.9934856 , -0.06373814, ...,  2.024315  ,\n",
       "         0.58618295,  0.6876634 ]], dtype=float32)"
      ]
     },
     "metadata": {},
     "output_type": "display_data"
    },
    {
     "data": {
      "text/plain": [
       "array([[-0.5839505 , -0.52099264, -0.4954354 , ..., -0.4717975 ,\n",
       "        -0.39119634,  0.2760827 ],\n",
       "       [-1.6334441 , -2.2828798 ,  0.6090554 , ...,  1.3886123 ,\n",
       "        -0.46298558, -0.7975929 ],\n",
       "       [-1.5835288 , -1.5217199 , -0.5283302 , ...,  2.5490959 ,\n",
       "         1.0513134 ,  0.7733019 ],\n",
       "       ...,\n",
       "       [-0.56165296, -0.4620951 , -0.12903118, ...,  0.63307655,\n",
       "         2.753474  , -0.37470695],\n",
       "       [ 0.46415102, -0.31832108, -0.9541393 , ...,  0.560323  ,\n",
       "        -0.41391358, -0.7359336 ],\n",
       "       [-1.2796264 , -2.2738938 ,  1.80495   , ...,  1.6084872 ,\n",
       "         0.5796051 ,  0.35454008]], dtype=float32)"
      ]
     },
     "metadata": {},
     "output_type": "display_data"
    },
    {
     "name": "stdout",
     "output_type": "stream",
     "text": [
      "\n",
      "After pca the shapes are shown respectively: (343, 150) (147, 150)\n",
      "The shape of the target column train and test: (343,) (147,)\n"
     ]
    }
   ],
   "source": [
    "display(X_train_pca, X_test_pca)\n",
    "print()\n",
    "print('After pca the shapes are shown respectively:', X_train_pca.shape, X_test_pca.shape)\n",
    "print('The shape of the target column train and test:', y_train.shape, y_test.shape)"
   ]
  },
  {
   "cell_type": "code",
   "execution_count": 71,
   "id": "f1dc423a-3b77-4812-8b7f-32073813bdf6",
   "metadata": {},
   "outputs": [],
   "source": [
    "#---------------------------------------PERCEPTRON"
   ]
  },
  {
   "cell_type": "code",
   "execution_count": 101,
   "id": "ed64446f-1d3a-4080-8ce4-bc82ff49a511",
   "metadata": {},
   "outputs": [
    {
     "name": "stdout",
     "output_type": "stream",
     "text": [
      "The best parameter for Perceptron is: {'perceptron__alpha': 0.001, 'perceptron__eta0': 0.01, 'perceptron__l1_ratio': 0.9, 'perceptron__max_iter': 100, 'perceptron__penalty': 'elasticnet', 'perceptron__random_state': 1}\n",
      "The best cross validation score/accuracy for Perceptron is: 0.630\n"
     ]
    }
   ],
   "source": [
    "n_samples, h, w = df2.images.shape\n",
    "X = sampled_data\n",
    "Y = sampled_target\n",
    "X_train, X_test, y_train, y_test = train_test_split(X, Y, test_size = 0.3, random_state = 42, stratify = Y)\n",
    "sc = StandardScaler()\n",
    "X_train_std = sc.fit_transform(X_train)\n",
    "X_test_std = sc.transform(X_test)\n",
    "\n",
    "n_components = 150\n",
    "t0 = time()\n",
    "pca = PCA(n_components=n_components, svd_solver=\"randomized\", whiten=True).fit(X_train_std)\n",
    "eigenfaces = pca.components_.reshape((n_components, h, w))\n",
    "t0 = time()\n",
    "X_train_pca = pca.transform(X_train_std)\n",
    "X_test_pca = pca.transform(X_test_std)\n",
    "\n",
    "model = Pipeline([\n",
    "        ('sc', StandardScaler()),\n",
    "        ('perceptron', Perceptron(random_state = 1))])\n",
    "# Taken from scikit learn Perceptron\n",
    "param_grid = {'perceptron__penalty': ['elasticnet'],\n",
    "              'perceptron__alpha': [0.0001, 0.001, 0.01, 0.1],\n",
    "              'perceptron__max_iter': [100, 500, 1000, 1500],\n",
    "              'perceptron__random_state': [1],\n",
    "              'perceptron__l1_ratio': [0.1, 0.5, 0.9],\n",
    "              'perceptron__eta0': [1, 0.1, 0.01, 0.001]}\n",
    "#Reducing the hyperparams increases the accuracy but dcreases the validation result\n",
    "gs = GridSearchCV(estimator=model, param_grid = param_grid, scoring = 'accuracy', cv = 10, n_jobs =-1)\n",
    "gs.fit(X_train_pca, y_train)\n",
    "print(f'The best parameter for Perceptron is: {gs.best_params_}')\n",
    "print(f'The best cross validation score/accuracy for Perceptron is: {gs.best_score_:.3f}')"
   ]
  },
  {
   "cell_type": "code",
   "execution_count": 102,
   "id": "5fbe92ec-efd9-4377-827a-fb7a5de29a6c",
   "metadata": {},
   "outputs": [
    {
     "name": "stdout",
     "output_type": "stream",
     "text": [
      "The training accuracy of perceptron is: 1.000\n",
      "The testing accuracy of perceptron is: 0.707\n"
     ]
    }
   ],
   "source": [
    "p1 = gs.best_estimator_\n",
    "p1.fit(X_train_pca, y_train)\n",
    "print('The training accuracy of perceptron is: %.3f' % p1.score(X_train_pca, y_train))\n",
    "print('The testing accuracy of perceptron is: %.3f' % p1.score(X_test_pca, y_test))\n"
   ]
  },
  {
   "cell_type": "code",
   "execution_count": 103,
   "id": "0aa8eeac-4b17-4cba-91cb-54705d4111ce",
   "metadata": {},
   "outputs": [
    {
     "data": {
      "image/png": "[encoded data removed]",
      "text/plain": [
       "<Figure size 250x250 with 1 Axes>"
      ]
     },
     "metadata": {},
     "output_type": "display_data"
    },
    {
     "name": "stdout",
     "output_type": "stream",
     "text": [
      "The precision score for perceptron is: 0.718\n",
      "Precision per class 0: 0.739\n",
      "Precision per class 1: 0.650\n",
      "Precision per class 2: 0.636\n",
      "Precision per class 3: 0.812\n",
      "Precision per class 4: 0.750\n",
      "Precision per class 5: 0.833\n",
      "Precision per class 6: 0.607\n"
     ]
    }
   ],
   "source": [
    "p1.fit(X_train_pca, y_train)\n",
    "y_pred = p1.predict(X_test_pca)\n",
    "confmat = confusion_matrix(y_true=y_test, y_pred=y_pred)\n",
    "fig, ax = plt.subplots(figsize=(2.5, 2.5))\n",
    "ax.matshow(confmat, cmap=plt.cm.Reds, alpha=0.3)\n",
    "for i in range(confmat.shape[0]):\n",
    "    for j in range(confmat.shape[1]):\n",
    "        ax.text(x=j, y=i, s=confmat[i, j], va='center', ha='center')\n",
    "plt.xlabel('predicted label')\n",
    "plt.ylabel('true label')\n",
    "plt.show()\n",
    "print('The precision score for perceptron is: %.3f' % precision_score(y_true=y_test, y_pred=y_pred, average = 'macro'))\n",
    "pre_per_class = precision_score(y_true=y_test, y_pred=y_pred, average = None)\n",
    "for i, precision in enumerate(pre_per_class):\n",
    "    print(f\"Precision per class {i}: {precision:.3f}\")"
   ]
  },
  {
   "cell_type": "code",
   "execution_count": null,
   "id": "5b89939b-13cf-4a88-956c-9a3aa57f89db",
   "metadata": {},
   "outputs": [],
   "source": [
    "#---------------------------------------Logistic Regression"
   ]
  },
  {
   "cell_type": "code",
   "execution_count": 105,
   "id": "a1660b9f-529f-461e-9001-9772b7fb9475",
   "metadata": {},
   "outputs": [
    {
     "name": "stdout",
     "output_type": "stream",
     "text": [
      "The best parameter for LogisticRegression is: {'lg__C': 0.1, 'lg__l1_ratio': 0.5, 'lg__max_iter': 100, 'lg__penalty': 'elasticnet', 'lg__random_state': 1, 'lg__solver': 'saga'}\n",
      "The best cross validation score/accuracy for LogisticRegression is: 0.703\n"
     ]
    }
   ],
   "source": [
    "n_samples, h, w = df2.images.shape\n",
    "X = sampled_data\n",
    "Y = sampled_target\n",
    "X_train, X_test, y_train, y_test = train_test_split(X, Y, test_size = 0.3, random_state = 42, stratify = Y)\n",
    "sc = StandardScaler()\n",
    "X_train_std = sc.fit_transform(X_train)\n",
    "X_test_std = sc.transform(X_test)\n",
    "\n",
    "n_components = 150\n",
    "t0 = time()\n",
    "pca = PCA(n_components=n_components, svd_solver=\"randomized\", whiten=True).fit(X_train_std)\n",
    "eigenfaces = pca.components_.reshape((n_components, h, w))\n",
    "t0 = time()\n",
    "X_train_pca = pca.transform(X_train_std)\n",
    "X_test_pca = pca.transform(X_test_std)\n",
    "\n",
    "model1 = Pipeline([\n",
    "        ('sc', StandardScaler()),\n",
    "        ('lg', LogisticRegression(random_state = 1))])\n",
    "\n",
    "# Taken from scikit learn Logistic Regression\n",
    "param_grid = {'lg__penalty': ['elasticnet'],\n",
    "              'lg__C': [0.001, 0.01, 0.1, 1.0, 10],\n",
    "               'lg__random_state':[1], \n",
    "              'lg__max_iter': [100, 500, 1000, 1500],\n",
    "              'lg__l1_ratio': [0.1, 0.5, 0.9],\n",
    "              'lg__solver': ['saga']} \n",
    "# For logistic regression reducing the hyperparam reduces both the validation score and test accuracy\n",
    "#sag and lbfgs will fail for elastic net based on scikit learn but just wanted to try it and the accuracy was lower so I used solver saga only\n",
    "# had to add l1 ratio because elasticnet will fail otherwise\n",
    "\n",
    "gs1 = GridSearchCV(estimator=model1, param_grid = param_grid, scoring = 'accuracy', cv = 10, n_jobs =3)\n",
    "gs1.fit(X_train_pca, y_train)\n",
    "print(f'The best parameter for LogisticRegression is: {gs1.best_params_}')\n",
    "print(f'The best cross validation score/accuracy for LogisticRegression is: {gs1.best_score_:.3f}')"
   ]
  },
  {
   "cell_type": "code",
   "execution_count": 106,
   "id": "fbd690eb-5947-425c-816d-73b060305ea5",
   "metadata": {},
   "outputs": [
    {
     "name": "stdout",
     "output_type": "stream",
     "text": [
      "The training accuracy of logistic regression is: 0.983\n",
      "The testing accuracy of logistic regression is: 0.721\n"
     ]
    }
   ],
   "source": [
    "lg1 = gs1.best_estimator_\n",
    "lg1.fit(X_train_pca, y_train)\n",
    "print('The training accuracy of logistic regression is: %.3f' % lg1.score(X_train_pca, y_train))\n",
    "print('The testing accuracy of logistic regression is: %.3f' % lg1.score(X_test_pca, y_test))"
   ]
  },
  {
   "cell_type": "code",
   "execution_count": 107,
   "id": "2c85dc68-51ff-4648-b196-be0859e6e61e",
   "metadata": {},
   "outputs": [
    {
     "data": {
      "image/png": "[encoded data removed]",
      "text/plain": [
       "<Figure size 250x250 with 1 Axes>"
      ]
     },
     "metadata": {},
     "output_type": "display_data"
    },
    {
     "name": "stdout",
     "output_type": "stream",
     "text": [
      "\n",
      "The precision score for LR is: 0.732\n",
      "Precision per class 0: 0.714\n",
      "Precision per class 1: 0.652\n",
      "Precision per class 2: 0.875\n",
      "Precision per class 3: 0.800\n",
      "Precision per class 4: 0.630\n",
      "Precision per class 5: 0.750\n",
      "Precision per class 6: 0.700\n"
     ]
    }
   ],
   "source": [
    "lg1.fit(X_train_pca, y_train)\n",
    "y_pred = lg1.predict(X_test_pca)\n",
    "confmat = confusion_matrix(y_true=y_test, y_pred=y_pred)\n",
    "fig, ax = plt.subplots(figsize=(2.5, 2.5))\n",
    "ax.matshow(confmat, cmap=plt.cm.Greens, alpha=0.3)\n",
    "for i in range(confmat.shape[0]):\n",
    "    for j in range(confmat.shape[1]):\n",
    "        ax.text(x=j, y=i, s=confmat[i, j], va='center', ha='center')\n",
    "plt.xlabel('predicted label')\n",
    "plt.ylabel('true label')\n",
    "plt.show()\n",
    "print()\n",
    "print('The precision score for LR is: %.3f' % precision_score(y_true=y_test, y_pred=y_pred, average = 'macro'))\n",
    "pre_per_class = precision_score(y_true=y_test, y_pred=y_pred, average = None)\n",
    "for i, precision in enumerate(pre_per_class):\n",
    "    print(f\"Precision per class {i}: {precision:.3f}\")\n",
    "#number of samples miss classified for that class (it was class 0 but you missclassified) -- true label==False negative\n",
    "# no of samples that were incorrectly predicted as class 0 (it was predicted as zero while it wasnt) -- predicted label"
   ]
  },
  {
   "cell_type": "code",
   "execution_count": 11,
   "id": "2d53e79d-632c-4f4f-a193-b5c80c3fc106",
   "metadata": {},
   "outputs": [],
   "source": [
    "#--------------------------------- KNN"
   ]
  },
  {
   "cell_type": "code",
   "execution_count": 108,
   "id": "14efb488-47c2-4c78-a2e9-421abe4eb722",
   "metadata": {},
   "outputs": [
    {
     "name": "stdout",
     "output_type": "stream",
     "text": [
      "The best parameter for KNN is: {'knn__algorithm': 'auto', 'knn__n_neighbors': 3, 'knn__weights': 'uniform'}\n",
      "The best cross validation score/accuracy for KNN is: 0.423\n"
     ]
    }
   ],
   "source": [
    "n_samples, h, w = df2.images.shape\n",
    "X = sampled_data\n",
    "Y = sampled_target\n",
    "X_train, X_test, y_train, y_test = train_test_split(X, Y, test_size = 0.3, random_state = 42, stratify = Y)\n",
    "sc = StandardScaler()\n",
    "X_train_std = sc.fit_transform(X_train)\n",
    "X_test_std = sc.transform(X_test)\n",
    "\n",
    "n_components = 150\n",
    "t0 = time()\n",
    "pca = PCA(n_components=n_components, svd_solver=\"randomized\", whiten=True).fit(X_train_std)\n",
    "eigenfaces = pca.components_.reshape((n_components, h, w))\n",
    "t0 = time()\n",
    "X_train_pca = pca.transform(X_train_std)\n",
    "X_test_pca = pca.transform(X_test_std)\n",
    "\n",
    "model2 = Pipeline([\n",
    "        ('sc', StandardScaler()),\n",
    "        ('knn', KNeighborsClassifier())])\n",
    "\n",
    "# Taken from scikit learn KNN\n",
    "param_grid = {'knn__n_neighbors': [3, 5, 7, 9],\n",
    "              'knn__weights': ['uniform', 'distance'],\n",
    "              'knn__algorithm': ['auto', 'ball_tree', 'brute', 'kd_tree']} \n",
    "\n",
    "#Reducing or adding the hyperparmas has no effect the validation and test accuracy remain similar\n",
    "\n",
    "gs2 = GridSearchCV(estimator=model2, param_grid = param_grid, scoring = 'accuracy', cv = 10, n_jobs =1)\n",
    "gs2.fit(X_train_pca, y_train)\n",
    "print(f'The best parameter for KNN is: {gs2.best_params_}')\n",
    "print(f'The best cross validation score/accuracy for KNN is: {gs2.best_score_:.3f}')"
   ]
  },
  {
   "cell_type": "code",
   "execution_count": 109,
   "id": "5f9f7831-b529-4a14-9b72-1d0f7243cba8",
   "metadata": {},
   "outputs": [
    {
     "name": "stdout",
     "output_type": "stream",
     "text": [
      "The training accuracy of knn is: 0.860\n",
      "The testing accuracy of knn is: 0.510\n"
     ]
    }
   ],
   "source": [
    "knn1 = gs2.best_estimator_\n",
    "knn1.fit(X_train_pca, y_train)\n",
    "print('The training accuracy of knn is: %.3f' % knn1.score(X_train_pca, y_train))\n",
    "print('The testing accuracy of knn is: %.3f' % knn1.score(X_test_pca, y_test))"
   ]
  },
  {
   "cell_type": "code",
   "execution_count": 110,
   "id": "ce0e0648-71b5-4674-a7c2-b15fdf70d2a1",
   "metadata": {},
   "outputs": [
    {
     "data": {
      "image/png": "[encoded data removed]",
      "text/plain": [
       "<Figure size 250x250 with 1 Axes>"
      ]
     },
     "metadata": {},
     "output_type": "display_data"
    },
    {
     "name": "stdout",
     "output_type": "stream",
     "text": [
      "\n",
      "The precision score for kNN is: 0.530\n",
      "Precision per class 0: 0.750\n",
      "Precision per class 1: 0.560\n",
      "Precision per class 2: 0.529\n",
      "Precision per class 3: 0.440\n",
      "Precision per class 4: 0.308\n",
      "Precision per class 5: 0.667\n",
      "Precision per class 6: 0.455\n"
     ]
    }
   ],
   "source": [
    "knn1.fit(X_train_pca, y_train)\n",
    "y_pred = knn1.predict(X_test_pca)\n",
    "confmat = confusion_matrix(y_true=y_test, y_pred=y_pred)\n",
    "fig, ax = plt.subplots(figsize=(2.5, 2.5))\n",
    "ax.matshow(confmat, cmap=plt.cm.Reds, alpha=0.3)\n",
    "for i in range(confmat.shape[0]):\n",
    "    for j in range(confmat.shape[1]):\n",
    "        ax.text(x=j, y=i, s=confmat[i, j], va='center', ha='center')\n",
    "plt.xlabel('predicted label')\n",
    "plt.ylabel('true label')\n",
    "plt.show()\n",
    "print()\n",
    "print('The precision score for kNN is: %.3f' % precision_score(y_true=y_test, y_pred=y_pred, average = 'macro'))\n",
    "pre_per_class = precision_score(y_true=y_test, y_pred=y_pred, average = None)\n",
    "for i, precision in enumerate(pre_per_class):\n",
    "    print(f\"Precision per class {i}: {precision:.3f}\")"
   ]
  },
  {
   "cell_type": "code",
   "execution_count": 15,
   "id": "1de06500-afe9-47ce-943a-d376e4dcfca1",
   "metadata": {},
   "outputs": [],
   "source": [
    "#-------------------------------KSVC"
   ]
  },
  {
   "cell_type": "code",
   "execution_count": 111,
   "id": "ad617b1a-1814-40d9-ae1b-c80cdb9c797e",
   "metadata": {},
   "outputs": [
    {
     "name": "stdout",
     "output_type": "stream",
     "text": [
      "The best parameter for KSVM is: {'svc__C': 10.0, 'svc__gamma': 'scale', 'svc__kernel': 'rbf', 'svc__random_state': 1}\n",
      "The best cross validation score/accuracy for KSVM is: 0.665\n"
     ]
    }
   ],
   "source": [
    "n_samples, h, w = df2.images.shape\n",
    "X = sampled_data\n",
    "Y = sampled_target\n",
    "X_train, X_test, y_train, y_test = train_test_split(X, Y, test_size = 0.3, random_state = 42, stratify = Y)\n",
    "sc = StandardScaler()\n",
    "X_train_std = sc.fit_transform(X_train)\n",
    "X_test_std = sc.transform(X_test)\n",
    "\n",
    "n_components = 150\n",
    "t0 = time()\n",
    "pca = PCA(n_components=n_components, svd_solver=\"randomized\", whiten=True).fit(X_train_std)\n",
    "eigenfaces = pca.components_.reshape((n_components, h, w))\n",
    "t0 = time()\n",
    "X_train_pca = pca.transform(X_train_std)\n",
    "X_test_pca = pca.transform(X_test_std)\n",
    "\n",
    "model3 = Pipeline([\n",
    "        ('sc', StandardScaler()),\n",
    "        ('svc', SVC(random_state = 1))])\n",
    "# Taken from scikit learn KSVM\n",
    "param_grid = {'svc__C': [0.0001, 0.001, 0.01, 0.1, 1.0, 10.0, 100.0],\n",
    "              'svc__gamma': ['scale','auto', 0.1, 1.0, 10.0, 100.0, 0.01],\n",
    "              'svc__random_state': [1],\n",
    "              'svc__kernel': ['rbf']} \n",
    "\n",
    "#sag and lbfgs will fail for elastic net based on scikit learn but just wanted to try it and the accuracy was lower so I used solver saga only\n",
    "# had to add l1 ratio because elasticnet will fail otherwise\n",
    "\n",
    "gs3 = GridSearchCV(estimator=model3, param_grid = param_grid, scoring = 'accuracy', cv = 10, n_jobs =1)\n",
    "gs3.fit(X_train_pca, y_train)\n",
    "print(f'The best parameter for KSVM is: {gs3.best_params_}')\n",
    "print(f'The best cross validation score/accuracy for KSVM is: {gs3.best_score_:.3f}')"
   ]
  },
  {
   "cell_type": "code",
   "execution_count": 112,
   "id": "d56a121d-7625-4318-8ce3-5d3b06354936",
   "metadata": {},
   "outputs": [
    {
     "name": "stdout",
     "output_type": "stream",
     "text": [
      "The training accuracy of ksvm is: 1.000\n",
      "The testing accuracy of ksvm is: 0.789\n"
     ]
    }
   ],
   "source": [
    "ksvm1 = gs3.best_estimator_\n",
    "ksvm1.fit(X_train_pca, y_train)\n",
    "print('The training accuracy of ksvm is: %.3f' % ksvm1.score(X_train_pca, y_train))\n",
    "print('The testing accuracy of ksvm is: %.3f' % ksvm1.score(X_test_pca, y_test))"
   ]
  },
  {
   "cell_type": "code",
   "execution_count": 113,
   "id": "2dbebd43-ee65-4481-97af-c7b8cff4285b",
   "metadata": {},
   "outputs": [
    {
     "data": {
      "image/png": "[encoded data removed]",
      "text/plain": [
       "<Figure size 250x250 with 1 Axes>"
      ]
     },
     "metadata": {},
     "output_type": "display_data"
    },
    {
     "name": "stdout",
     "output_type": "stream",
     "text": [
      "\n",
      "The precision score for KSVM is: 0.800\n",
      "Precision per class 0: 0.769\n",
      "Precision per class 1: 0.667\n",
      "Precision per class 2: 0.812\n",
      "Precision per class 3: 0.842\n",
      "Precision per class 4: 0.741\n",
      "Precision per class 5: 0.882\n",
      "Precision per class 6: 0.889\n"
     ]
    }
   ],
   "source": [
    "ksvm1.fit(X_train_pca, y_train)\n",
    "y_pred = ksvm1.predict(X_test_pca)\n",
    "confmat = confusion_matrix(y_true=y_test, y_pred=y_pred)\n",
    "fig, ax = plt.subplots(figsize=(2.5, 2.5))\n",
    "ax.matshow(confmat, cmap=plt.cm.Greens, alpha=0.5)\n",
    "for i in range(confmat.shape[0]):\n",
    "    for j in range(confmat.shape[1]):\n",
    "        ax.text(x=j, y=i, s=confmat[i, j], va='center', ha='center')\n",
    "plt.xlabel('predicted label')\n",
    "plt.ylabel('true label')\n",
    "plt.show()\n",
    "print()\n",
    "print('The precision score for KSVM is: %.3f' % precision_score(y_true=y_test, y_pred=y_pred, average = 'macro'))\n",
    "pre_per_class = precision_score(y_true=y_test, y_pred=y_pred, average = None)\n",
    "for i, precision in enumerate(pre_per_class):\n",
    "    print(f\"Precision per class {i}: {precision:.3f}\")"
   ]
  },
  {
   "cell_type": "code",
   "execution_count": 28,
   "id": "8525c4d6-3eba-4610-85b4-7e3072508df5",
   "metadata": {},
   "outputs": [],
   "source": [
    "#-------------------------------LSVM"
   ]
  },
  {
   "cell_type": "code",
   "execution_count": 114,
   "id": "ded3867e-af30-4271-9611-8d457cae54a4",
   "metadata": {},
   "outputs": [
    {
     "name": "stdout",
     "output_type": "stream",
     "text": [
      "The best parameter for LSVM is: {'svc__C': 0.01, 'svc__kernel': 'linear', 'svc__random_state': 1}\n",
      "The best cross validation score/accuracy for LSVM is: 0.659\n"
     ]
    }
   ],
   "source": [
    "n_samples, h, w = df2.images.shape\n",
    "X = sampled_data\n",
    "Y = sampled_target\n",
    "X_train, X_test, y_train, y_test = train_test_split(X, Y, test_size = 0.3, random_state = 42, stratify = Y)\n",
    "sc = StandardScaler()\n",
    "X_train_std = sc.fit_transform(X_train)\n",
    "X_test_std = sc.transform(X_test)\n",
    "\n",
    "n_components = 150\n",
    "t0 = time()\n",
    "pca = PCA(n_components=n_components, svd_solver=\"randomized\", whiten=True).fit(X_train_std)\n",
    "eigenfaces = pca.components_.reshape((n_components, h, w))\n",
    "t0 = time()\n",
    "X_train_pca = pca.transform(X_train_std)\n",
    "X_test_pca = pca.transform(X_test_std)\n",
    "\n",
    "model4 = Pipeline([\n",
    "        ('sc', StandardScaler()),\n",
    "        ('svc', SVC(random_state = 1))])\n",
    "# Taken from scikit learn LSVM\n",
    "param_grid = {'svc__C': [0.0001, 0.001, 0.01, 0.1, 1.0, 10.0, 100.0, 10000.0],\n",
    "             'svc__random_state': [1], \n",
    "              'svc__kernel': ['linear']} \n",
    "\n",
    "#sag and lbfgs will fail for elastic net based on scikit learn but just wanted to try it and the accuracy was lower so I used solver saga only\n",
    "# had to add l1 ratio because elasticnet will fail otherwise\n",
    "\n",
    "gs4 = GridSearchCV(estimator=model4, param_grid = param_grid, scoring = 'accuracy', cv = 10, n_jobs =1)\n",
    "gs4.fit(X_train_pca, y_train)\n",
    "print(f'The best parameter for LSVM is: {gs4.best_params_}')\n",
    "print(f'The best cross validation score/accuracy for LSVM is: {gs4.best_score_:.3f}')"
   ]
  },
  {
   "cell_type": "code",
   "execution_count": 115,
   "id": "c1ade2e1-f3e7-4c0c-a667-233b5c935023",
   "metadata": {},
   "outputs": [
    {
     "name": "stdout",
     "output_type": "stream",
     "text": [
      "The training accuracy of lsvm is: 0.994\n",
      "The testing accuracy of lsvm is: 0.735\n"
     ]
    }
   ],
   "source": [
    "lsvm1 = gs4.best_estimator_\n",
    "lsvm1.fit(X_train_pca, y_train)\n",
    "print('The training accuracy of lsvm is: %.3f' % lsvm1.score(X_train_pca, y_train))\n",
    "print('The testing accuracy of lsvm is: %.3f' % lsvm1.score(X_test_pca, y_test))"
   ]
  },
  {
   "cell_type": "code",
   "execution_count": 116,
   "id": "3e13aaa7-6861-4b6a-bcc8-6f9408486ff5",
   "metadata": {},
   "outputs": [
    {
     "data": {
      "image/png": "[encoded data removed]",
      "text/plain": [
       "<Figure size 250x250 with 1 Axes>"
      ]
     },
     "metadata": {},
     "output_type": "display_data"
    },
    {
     "name": "stdout",
     "output_type": "stream",
     "text": [
      "\n",
      "The precision score for LSVM is: 0.737\n",
      "Precision per class 0: 0.857\n",
      "Precision per class 1: 0.750\n",
      "Precision per class 2: 0.684\n",
      "Precision per class 3: 0.789\n",
      "Precision per class 4: 0.696\n",
      "Precision per class 5: 0.714\n",
      "Precision per class 6: 0.667\n"
     ]
    }
   ],
   "source": [
    "lsvm1.fit(X_train_pca, y_train)\n",
    "y_pred = lsvm1.predict(X_test_pca)\n",
    "confmat = confusion_matrix(y_true=y_test, y_pred=y_pred)\n",
    "fig, ax = plt.subplots(figsize=(2.5, 2.5))\n",
    "ax.matshow(confmat, cmap=plt.cm.Reds, alpha=0.5)\n",
    "for i in range(confmat.shape[0]):\n",
    "    for j in range(confmat.shape[1]):\n",
    "        ax.text(x=j, y=i, s=confmat[i, j], va='center', ha='center')\n",
    "plt.xlabel('predicted label')\n",
    "plt.ylabel('true label')\n",
    "plt.show()\n",
    "print()\n",
    "print('The precision score for LSVM is: %.3f' % precision_score(y_true=y_test, y_pred=y_pred, average = 'macro'))\n",
    "pre_per_class = precision_score(y_true=y_test, y_pred=y_pred, average = None)\n",
    "for i, precision in enumerate(pre_per_class):\n",
    "    print(f\"Precision per class {i}: {precision:.3f}\")\n",
    "    \n"
   ]
  },
  {
   "cell_type": "code",
   "execution_count": null,
   "id": "57ac486c-71b8-48d6-bc06-a28e93440624",
   "metadata": {},
   "outputs": [],
   "source": []
  }
 ],
 "metadata": {
  "kernelspec": {
   "display_name": "Python 3 (ipykernel)",
   "language": "python",
   "name": "python3"
  },
  "language_info": {
   "codemirror_mode": {
    "name": "ipython",
    "version": 3
   },
   "file_extension": ".py",
   "mimetype": "text/x-python",
   "name": "python",
   "nbconvert_exporter": "python",
   "pygments_lexer": "ipython3",
   "version": "3.12.6"
  }
 },
 "nbformat": 4,
 "nbformat_minor": 5
}
